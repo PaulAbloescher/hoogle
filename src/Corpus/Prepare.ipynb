{
 "cells": [
  {
   "cell_type": "code",
   "execution_count": 43,
   "metadata": {},
   "outputs": [],
   "source": [
    "from nltk.tokenize import word_tokenize\n",
    "from nltk.corpus import stopwords\n",
    "from nltk.stem.snowball import SnowballStemmer\n",
    "from nltk.stem import WordNetLemmatizer\n",
    "from collections import Counter\n",
    "from os import path\n"
   ]
  },
  {
   "cell_type": "code",
   "execution_count": 44,
   "metadata": {},
   "outputs": [],
   "source": [
    "def tokenize(text, language='english'):\n",
    "    stop = set(stopwords.words(language))\n",
    "    return [token for token in word_tokenize(text) if token not in stop and token.isalnum()]"
   ]
  },
  {
   "cell_type": "code",
   "execution_count": 45,
   "metadata": {},
   "outputs": [],
   "source": [
    "def stem(tokens, language='english'):\n",
    "    stemmer = SnowballStemmer(language)\n",
    "    return [stemmer.stem(token) for token in tokens]"
   ]
  },
  {
   "cell_type": "code",
   "execution_count": 46,
   "metadata": {},
   "outputs": [],
   "source": [
    "def lemmatize(tokens):\n",
    "    lemmatizer = WordNetLemmatizer()\n",
    "    return [lemmatizer.lemmatize(token) for token in tokens]"
   ]
  },
  {
   "cell_type": "code",
   "execution_count": 47,
   "metadata": {},
   "outputs": [],
   "source": [
    "def transformLines(targetFile, destinationFile, transform):\n",
    "    with open(targetFile) as fin, open(destinationFile, 'w') as fout:\n",
    "        for line in fin:\n",
    "            result = transform(line)\n",
    "            print(result, end='\\n', file=fout)"
   ]
  },
  {
   "cell_type": "code",
   "execution_count": 48,
   "metadata": {},
   "outputs": [],
   "source": [
    "def tokenizeAndLemmatize(text):\n",
    "    tokenized = tokenize(text)\n",
    "    lemmatized = lemmatize(tokenized)\n",
    "    return lemmatized"
   ]
  },
  {
   "cell_type": "code",
   "execution_count": 49,
   "metadata": {},
   "outputs": [],
   "source": [
    "def tokenizeAndLemmatizeFile(targetFile, destinationFile):\n",
    "    transformLines(targetFile, destinationFile, tokenizeAndLemmatize)"
   ]
  },
  {
   "cell_type": "code",
   "execution_count": 50,
   "metadata": {},
   "outputs": [],
   "source": [
    "def tokenizeFile(targetFile, language='english', idSeparator = \":\"):\n",
    "    targetFileName = path.basename(targetFile)\n",
    "    destinationFileName = \"tokenized.\" + targetFileName\n",
    "    with open(targetFile) as fin, open(destinationFileName, 'w') as fout:\n",
    "        for line in fin:\n",
    "            (id, text) = line.split(idSeparator)\n",
    "            tokenizedLine = tokenize(text, language)\n",
    "            stemmedLine = lemmatize(tokenizedLine)\n",
    "            print(id + idSeparator + \" \".join(stemmedLine), end='\\n', file=fout)\n"
   ]
  },
  {
   "cell_type": "code",
   "execution_count": null,
   "metadata": {},
   "outputs": [],
   "source": []
  },
  {
   "cell_type": "code",
   "execution_count": 51,
   "metadata": {},
   "outputs": [],
   "source": [
    "tokenizeFile('..\\\\..\\\\small.dump.txt')\n",
    "# with open ('dump.tokenized.txt') as fin:\n",
    "#     lines = fin.read()\n",
    "#     count = Counter(lines.split())\n",
    "#     print(len(count))\n"
   ]
  }
 ],
 "metadata": {
  "interpreter": {
   "hash": "b39dcb3d3362ff747ddce896d3961166e3de0f67646b9052166a268c283e04ff"
  },
  "kernelspec": {
   "display_name": "Python 3.8.3 ('base')",
   "language": "python",
   "name": "python3"
  },
  "language_info": {
   "codemirror_mode": {
    "name": "ipython",
    "version": 3
   },
   "file_extension": ".py",
   "mimetype": "text/x-python",
   "name": "python",
   "nbconvert_exporter": "python",
   "pygments_lexer": "ipython3",
   "version": "3.8.3"
  },
  "orig_nbformat": 4
 },
 "nbformat": 4,
 "nbformat_minor": 2
}
