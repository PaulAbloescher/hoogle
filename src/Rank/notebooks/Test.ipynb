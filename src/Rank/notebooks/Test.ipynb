{
 "cells": [
  {
   "cell_type": "code",
   "execution_count": 11,
   "metadata": {},
   "outputs": [],
   "source": [
    "# Always reload modules to have the current version\n",
    "%reload_ext autoreload\n",
    "%autoreload 2"
   ]
  },
  {
   "cell_type": "code",
   "execution_count": 12,
   "metadata": {},
   "outputs": [],
   "source": [
    "from ranking.storage.document_store import DocumentStore\n",
    "from ranking.models.bm25 import BM25Model\n",
    "from rank_bm25 import BM25Okapi\n",
    "\n",
    "dataset = '..\\\\datasets\\\\lemmatized.raw.dump.jsonl'\n",
    "model_path = '..\\\\indexes\\\\bm25.lemmatized.raw.dump.jsonl.pkl'\n",
    "store = DocumentStore(dataset)\n",
    "# model = BM25Okapi([doc.split(' ') for doc in store.read_corpus()])\n",
    "# bm25 = BM25Model(store, model)\n",
    "# bm25.save_model(model_path)\n",
    "bm25 = BM25Model.load_model(model_path)"
   ]
  },
  {
   "cell_type": "code",
   "execution_count": 13,
   "metadata": {},
   "outputs": [
    {
     "name": "stdout",
     "output_type": "stream",
     "text": [
      "[(178220913, 0.0), (176439960, 0.0), (118795024, 0.0), (101800921, 0.0), (94022655, 0.0), (94009194, 4.825021546144368), (94009854, 0.0)]\n"
     ]
    }
   ],
   "source": [
    "hoogle_ids = [178220913, 176439960, 118795024, 101800921, 94022655, 94009194, 94009854]\n",
    "query = ['angle', 'interface', 'function']\n",
    "scores = bm25.get_batch_scores(query, hoogle_ids)\n",
    "print(list(scores))"
   ]
  }
 ],
 "metadata": {
  "interpreter": {
   "hash": "b39dcb3d3362ff747ddce896d3961166e3de0f67646b9052166a268c283e04ff"
  },
  "kernelspec": {
   "display_name": "Python 3.8.3 ('base')",
   "language": "python",
   "name": "python3"
  },
  "language_info": {
   "codemirror_mode": {
    "name": "ipython",
    "version": 3
   },
   "file_extension": ".py",
   "mimetype": "text/x-python",
   "name": "python",
   "nbconvert_exporter": "python",
   "pygments_lexer": "ipython3",
   "version": "3.8.3"
  },
  "orig_nbformat": 4
 },
 "nbformat": 4,
 "nbformat_minor": 2
}
