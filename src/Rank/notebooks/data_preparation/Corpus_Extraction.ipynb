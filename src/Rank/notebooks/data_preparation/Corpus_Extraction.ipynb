{
 "cells": [
  {
   "cell_type": "code",
   "execution_count": 8,
   "metadata": {},
   "outputs": [],
   "source": [
    "# Always reload modules to have the current version\n",
    "%reload_ext autoreload\n",
    "%autoreload 2\n"
   ]
  },
  {
   "cell_type": "code",
   "execution_count": 9,
   "metadata": {},
   "outputs": [],
   "source": [
    "from ranking.util import dataset_paths as dp\n",
    "from ranking.util import json_lines as jl\n",
    "from ranking.normalization.normalizer import normalize, get_wn_stopwords\n",
    "import pandas as pd\n",
    "pd.options.mode.chained_assignment = None\n",
    "\n",
    "dataset = jl.read_jsonl(dp.raw_corpus)"
   ]
  },
  {
   "cell_type": "code",
   "execution_count": 10,
   "metadata": {},
   "outputs": [],
   "source": [
    "result = dataset.drop_duplicates(subset='docContent')\n",
    "result['docContent'] = result['docContent'].str.removeprefix('not on stackage, so not searched.')\n",
    "result['nDocContent'] = result['docContent'].apply(lambda doc: normalize(doc, lambda text: text))\n",
    "result['lemDocContent'] = result['docContent'].apply(lambda doc: normalize(doc, stop=get_wn_stopwords()))"
   ]
  },
  {
   "cell_type": "code",
   "execution_count": 11,
   "metadata": {},
   "outputs": [],
   "source": [
    "tokenized_corpus = result[['nDocContent', 'lemDocContent']]\n",
    "tokenized_corpus['length'] = tokenized_corpus['nDocContent'].str.split().str.len()\n",
    "tokenized_corpus['length'].sum()\n",
    "# tokenized_corpus['nDocContent'].to_csv('tokenized-corpus.txt', index=False, header=False, quoting=False)\n",
    "# tokenized_corpus['lemDocContent'].to_csv('lemmatized-corpus.txt', index=False, header=False, quoting=False)"
   ]
  }
 ],
 "metadata": {
  "interpreter": {
   "hash": "b39dcb3d3362ff747ddce896d3961166e3de0f67646b9052166a268c283e04ff"
  },
  "kernelspec": {
   "display_name": "Python 3.8.3 ('base')",
   "language": "python",
   "name": "python3"
  },
  "language_info": {
   "codemirror_mode": {
    "name": "ipython",
    "version": 3
   },
   "file_extension": ".py",
   "mimetype": "text/x-python",
   "name": "python",
   "nbconvert_exporter": "python",
   "pygments_lexer": "ipython3",
   "version": "3.8.3"
  },
  "orig_nbformat": 4
 },
 "nbformat": 4,
 "nbformat_minor": 2
}
