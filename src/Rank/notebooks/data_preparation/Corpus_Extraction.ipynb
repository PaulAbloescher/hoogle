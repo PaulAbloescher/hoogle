{
 "cells": [
  {
   "cell_type": "code",
   "execution_count": 2,
   "metadata": {},
   "outputs": [],
   "source": [
    "# Always reload modules to have the current version\n",
    "%reload_ext autoreload\n",
    "%autoreload 2\n"
   ]
  },
  {
   "cell_type": "code",
   "execution_count": 3,
   "metadata": {},
   "outputs": [],
   "source": [
    "from ranking.util import dataset_paths as dp\n",
    "from ranking.util import json_lines as jl\n",
    "from ranking.normalization.normalizer import normalize\n",
    "import pandas as pd\n",
    "\n",
    "dataset = jl.read_jsonl(dp.raw_corpus)"
   ]
  },
  {
   "cell_type": "code",
   "execution_count": 4,
   "metadata": {},
   "outputs": [],
   "source": [
    "result = pd.Series(dataset['docContent'].unique()).apply(normalize)\n",
    "result = jl.read_jsonl('lemmatized-corpus.jsonl')"
   ]
  },
  {
   "cell_type": "code",
   "execution_count": 17,
   "metadata": {},
   "outputs": [
    {
     "name": "stdout",
     "output_type": "stream",
     "text": [
      "All sentences 262375\n",
      "Unique sentences 248930\n",
      "Word count us 3701370\n",
      "Word count all 3764515\n"
     ]
    }
   ],
   "source": [
    "all_sen = result['document']\n",
    "print('All sentences', len(all_sen))\n",
    "unique_sen = pd.Series(all_sen.unique())\n",
    "word_count_us = unique_sen.str.split().str.len().sum()\n",
    "word_count_a = all_sen.str.split().str.len().sum()\n",
    "print('Unique sentences', len(unique_sen))\n",
    "print('Word count us', word_count_us)\n",
    "print('Word count all', word_count_a)\n",
    "\n",
    "# jl.to_jsonl(df, 'lemmatized-corpus.jsonl')"
   ]
  },
  {
   "cell_type": "code",
   "execution_count": 27,
   "metadata": {},
   "outputs": [
    {
     "data": {
      "text/html": [
       "<div>\n",
       "<style scoped>\n",
       "    .dataframe tbody tr th:only-of-type {\n",
       "        vertical-align: middle;\n",
       "    }\n",
       "\n",
       "    .dataframe tbody tr th {\n",
       "        vertical-align: top;\n",
       "    }\n",
       "\n",
       "    .dataframe thead th {\n",
       "        text-align: right;\n",
       "    }\n",
       "</style>\n",
       "<table border=\"1\" class=\"dataframe\">\n",
       "  <thead>\n",
       "    <tr style=\"text-align: right;\">\n",
       "      <th></th>\n",
       "      <th>0</th>\n",
       "    </tr>\n",
       "  </thead>\n",
       "  <tbody>\n",
       "    <tr>\n",
       "      <th>0</th>\n",
       "      <td>angle degree radians simple little library dea...</td>\n",
       "    </tr>\n",
       "    <tr>\n",
       "      <th>1</th>\n",
       "      <td>deal angle measure degree radian name keep del...</td>\n",
       "    </tr>\n",
       "    <tr>\n",
       "      <th>2</th>\n",
       "      <td>angle radian</td>\n",
       "    </tr>\n",
       "    <tr>\n",
       "      <th>3</th>\n",
       "      <td>angle degree</td>\n",
       "    </tr>\n",
       "    <tr>\n",
       "      <th>4</th>\n",
       "      <td>convert radian degree</td>\n",
       "    </tr>\n",
       "    <tr>\n",
       "      <th>...</th>\n",
       "      <td>...</td>\n",
       "    </tr>\n",
       "    <tr>\n",
       "      <th>248925</th>\n",
       "      <td>stackage searched ascii bar represent battery ...</td>\n",
       "    </tr>\n",
       "    <tr>\n",
       "      <th>248926</th>\n",
       "      <td>executable color filter log tailer</td>\n",
       "    </tr>\n",
       "    <tr>\n",
       "      <th>248927</th>\n",
       "      <td>stackage search create extract arbitrary archive</td>\n",
       "    </tr>\n",
       "    <tr>\n",
       "      <th>248928</th>\n",
       "      <td>stackage search lisp processor haskell</td>\n",
       "    </tr>\n",
       "    <tr>\n",
       "      <th>248929</th>\n",
       "      <td>stackage search password strength estimation</td>\n",
       "    </tr>\n",
       "  </tbody>\n",
       "</table>\n",
       "<p>248930 rows × 1 columns</p>\n",
       "</div>"
      ],
      "text/plain": [
       "                                                        0\n",
       "0       angle degree radians simple little library dea...\n",
       "1       deal angle measure degree radian name keep del...\n",
       "2                                            angle radian\n",
       "3                                            angle degree\n",
       "4                                   convert radian degree\n",
       "...                                                   ...\n",
       "248925  stackage searched ascii bar represent battery ...\n",
       "248926                 executable color filter log tailer\n",
       "248927   stackage search create extract arbitrary archive\n",
       "248928             stackage search lisp processor haskell\n",
       "248929       stackage search password strength estimation\n",
       "\n",
       "[248930 rows x 1 columns]"
      ]
     },
     "execution_count": 27,
     "metadata": {},
     "output_type": "execute_result"
    }
   ],
   "source": [
    "# df = unique_sen.to_frame().to_csv('my-new-corpus.txt', index=False, header=False, quoting=False)\n",
    "df = pd.read_csv('my-new-corpus.txt', header=None)\n",
    "df"
   ]
  }
 ],
 "metadata": {
  "interpreter": {
   "hash": "b39dcb3d3362ff747ddce896d3961166e3de0f67646b9052166a268c283e04ff"
  },
  "kernelspec": {
   "display_name": "Python 3.8.3 ('base')",
   "language": "python",
   "name": "python3"
  },
  "language_info": {
   "codemirror_mode": {
    "name": "ipython",
    "version": 3
   },
   "file_extension": ".py",
   "mimetype": "text/x-python",
   "name": "python",
   "nbconvert_exporter": "python",
   "pygments_lexer": "ipython3",
   "version": "3.8.3"
  },
  "orig_nbformat": 4
 },
 "nbformat": 4,
 "nbformat_minor": 2
}
