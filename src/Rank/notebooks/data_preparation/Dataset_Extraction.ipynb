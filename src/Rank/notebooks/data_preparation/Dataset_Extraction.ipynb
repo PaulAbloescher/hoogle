{
 "cells": [
  {
   "cell_type": "code",
   "execution_count": 16,
   "metadata": {},
   "outputs": [],
   "source": [
    "# Always reload modules to have the current version\n",
    "%reload_ext autoreload\n",
    "%autoreload 2"
   ]
  },
  {
   "cell_type": "code",
   "execution_count": 17,
   "metadata": {},
   "outputs": [],
   "source": [
    "from ranking.util import json_lines as jl\n",
    "from ranking.util import dataset_paths as dp\n",
    "import pandas as pd\n",
    "\n",
    "input_file = dp.raw_corpus\n",
    "output_file  = 'all-unique-functions.jsonl'"
   ]
  },
  {
   "cell_type": "code",
   "execution_count": 18,
   "metadata": {},
   "outputs": [],
   "source": [
    "def strip_extra_spaces(text):\n",
    "    return \" \".join(text.split())\n",
    "\n",
    "def equalize_docItem(docItem):\n",
    "    no_empty_ctx = \"\".join(docItem.split('() =>'))\n",
    "    return strip_extra_spaces(no_empty_ctx)\n",
    "\n",
    "sign = '($$!) :: () => (i -> r) -> Number r i -> r'\n",
    "exptectedSign = '($$!) :: (i -> r) -> Number r i -> r'\n",
    "\n",
    "assert(equalize_docItem(sign) == exptectedSign)\n",
    "assert(exptectedSign == equalize_docItem(exptectedSign))"
   ]
  },
  {
   "cell_type": "code",
   "execution_count": 19,
   "metadata": {},
   "outputs": [],
   "source": [
    "# Adds a storageId that acts a group id to each function\n",
    "def group_unique_functions(df: pd.DataFrame) -> pd.DataFrame:\n",
    "    df['equalizedDocItem'] = df.apply(\n",
    "        lambda row: equalize_docItem(row['docItem']), axis=1)\n",
    "    groups = df.groupby(['equalizedDocItem'])\n",
    "\n",
    "    df['storageId'] = groups.ngroup()\n",
    "    df['docContent'] = groups['docContent'].transform('first')\n",
    "    df['docItem'] = groups['docItem'].transform('first')\n",
    "    df['docType'] = groups['docType'].transform('first')\n",
    "    return df[['docId', 'storageId', 'docContent', 'docItem', 'docType']]\n"
   ]
  },
  {
   "cell_type": "code",
   "execution_count": 20,
   "metadata": {},
   "outputs": [],
   "source": [
    "df = jl.read_jsonl(input_file)\n",
    "df = df[df['docItem'] != '']  # ignore all items that are no functions\n",
    "df = group_unique_functions(df).sort_values('storageId')\n",
    "jl.to_jsonl(df, output_file)\n"
   ]
  }
 ],
 "metadata": {
  "interpreter": {
   "hash": "b39dcb3d3362ff747ddce896d3961166e3de0f67646b9052166a268c283e04ff"
  },
  "kernelspec": {
   "display_name": "Python 3.8.3 ('base')",
   "language": "python",
   "name": "python3"
  },
  "language_info": {
   "codemirror_mode": {
    "name": "ipython",
    "version": 3
   },
   "file_extension": ".py",
   "mimetype": "text/x-python",
   "name": "python",
   "nbconvert_exporter": "python",
   "pygments_lexer": "ipython3",
   "version": "3.8.3"
  },
  "orig_nbformat": 4
 },
 "nbformat": 4,
 "nbformat_minor": 2
}
