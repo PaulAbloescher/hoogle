{
 "cells": [
  {
   "cell_type": "code",
   "execution_count": 18,
   "metadata": {},
   "outputs": [],
   "source": [
    "# Always reload modules to have the current version\n",
    "%reload_ext autoreload\n",
    "%autoreload 2"
   ]
  },
  {
   "cell_type": "code",
   "execution_count": 19,
   "metadata": {},
   "outputs": [],
   "source": [
    "from ranking.util import json_lines as jl\n",
    "import pandas as pd\n",
    "\n",
    "input_file = 'raw.docs.jsonl'\n",
    "output_file  = 'all-unique-functions.jsonl'"
   ]
  },
  {
   "cell_type": "code",
   "execution_count": 20,
   "metadata": {},
   "outputs": [],
   "source": [
    "def strip_extra_spaces(text):\n",
    "    return \" \".join(text.split())\n",
    "\n",
    "def equalize_docItem(docItem):\n",
    "    no_empty_ctx = \"\".join(docItem.split('() =>'))\n",
    "    return strip_extra_spaces(no_empty_ctx)\n",
    "\n",
    "sign = '($$!) :: () => (i -> r) -> Number r i -> r'\n",
    "exptectedSign = '($$!) :: (i -> r) -> Number r i -> r'\n",
    "\n",
    "assert(equalize_docItem(sign) == exptectedSign)\n",
    "assert(exptectedSign == equalize_docItem(exptectedSign))"
   ]
  },
  {
   "cell_type": "code",
   "execution_count": 21,
   "metadata": {},
   "outputs": [],
   "source": [
    "def get_unique_functions(finput, foutput):\n",
    "    df = jl.read_jsonl(finput)\n",
    "    df['equalizedDocItem'] = df.apply(\n",
    "        lambda row: equalize_docItem(row['docItem']), axis=1)\n",
    "    groups = df.groupby(['equalizedDocItem'])\n",
    "\n",
    "    docIds = []\n",
    "    docContents = []\n",
    "    docItems = []\n",
    "    docTypes = []\n",
    "\n",
    "    for name, group in groups:\n",
    "        if not name:\n",
    "            # skip group that contains no functions e.g. packages, modules, ...\n",
    "            continue\n",
    "        rep = group.head(1).iloc[0]\n",
    "        docIds.append(sorted(list(group['docId'])))\n",
    "        docContents.append(rep['docContent'])\n",
    "        docItems.append(rep['docItem'])\n",
    "        docTypes.append(rep['docType'])\n",
    "\n",
    "    res_df = pd.DataFrame({'docIds': docIds, 'docContent': docContents,\n",
    "                           'docItem': docItems, 'docType': docTypes})\n",
    "    jl.to_jsonl(res_df, foutput)\n"
   ]
  },
  {
   "cell_type": "code",
   "execution_count": 22,
   "metadata": {},
   "outputs": [],
   "source": [
    "get_unique_functions(input_file, output_file)"
   ]
  }
 ],
 "metadata": {
  "interpreter": {
   "hash": "b39dcb3d3362ff747ddce896d3961166e3de0f67646b9052166a268c283e04ff"
  },
  "kernelspec": {
   "display_name": "Python 3.8.3 ('base')",
   "language": "python",
   "name": "python3"
  },
  "language_info": {
   "codemirror_mode": {
    "name": "ipython",
    "version": 3
   },
   "file_extension": ".py",
   "mimetype": "text/x-python",
   "name": "python",
   "nbconvert_exporter": "python",
   "pygments_lexer": "ipython3",
   "version": "3.8.3"
  },
  "orig_nbformat": 4
 },
 "nbformat": 4,
 "nbformat_minor": 2
}
