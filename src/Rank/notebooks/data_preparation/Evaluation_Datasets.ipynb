{
 "cells": [
  {
   "cell_type": "code",
   "execution_count": 59,
   "metadata": {},
   "outputs": [],
   "source": [
    "# Always reload modules to have the current version\n",
    "%reload_ext autoreload\n",
    "%autoreload 2\n"
   ]
  },
  {
   "cell_type": "code",
   "execution_count": 60,
   "metadata": {},
   "outputs": [],
   "source": [
    "from sklearn.feature_extraction.text import TfidfVectorizer\n",
    "from ranking.util import json_lines as jl\n",
    "import pandas as pd\n",
    "import numpy as np\n"
   ]
  },
  {
   "cell_type": "code",
   "execution_count": 65,
   "metadata": {},
   "outputs": [],
   "source": [
    "def calculate_tfidf_for_dataset(df: pd.DataFrame) -> pd.DataFrame:\n",
    "    docs = df['docContent']\n",
    "    vectorizer = TfidfVectorizer()\n",
    "    result = vectorizer.fit_transform(docs)\n",
    "    df = pd.DataFrame.sparse.from_spmatrix(result, columns=vectorizer.get_feature_names())\n",
    "    return df\n",
    "\n",
    "def lookup_tfidf_weight(df_tfidf: pd.DataFrame, document_id, word):\n",
    "    if word in df_tfidf.columns:\n",
    "        return df_tfidf.at[document_id, word]\n",
    "    else:\n",
    "        return 0\n",
    "\n",
    "def create_tfidf_dataset(finput):\n",
    "    df = jl.read_jsonl(finput)\n",
    "    tfidf = calculate_tfidf_for_dataset(df)\n",
    "    df['tfidf'] = df.apply(lambda row: [(word, lookup_tfidf_weight(tfidf, row.name, word)) for word in row['docContent'].split()], axis=1)\n",
    "    return df\n",
    "\n",
    "def get_query_from_doc(row, n):\n",
    "    unique_weighed_words = list(dict.fromkeys(row['tfidf']))\n",
    "    max_n_scored_words = sorted(unique_weighed_words, key=lambda word_weight: word_weight[1], reverse=True)[:n]\n",
    "    query = ' '.join([word for word, _ in max_n_scored_words])\n",
    "    return query"
   ]
  },
  {
   "cell_type": "code",
   "execution_count": 62,
   "metadata": {},
   "outputs": [],
   "source": [
    "\n",
    "df = create_tfidf_dataset('lem-all-unique-functions.jsonl')"
   ]
  },
  {
   "cell_type": "code",
   "execution_count": 66,
   "metadata": {},
   "outputs": [
    {
     "name": "stderr",
     "output_type": "stream",
     "text": [
      "C:\\Users\\Paul\\AppData\\Local\\Temp\\ipykernel_20752\\2783095324.py:4: SettingWithCopyWarning: \n",
      "A value is trying to be set on a copy of a slice from a DataFrame.\n",
      "Try using .loc[row_indexer,col_indexer] = value instead\n",
      "\n",
      "See the caveats in the documentation: https://pandas.pydata.org/pandas-docs/stable/user_guide/indexing.html#returning-a-view-versus-a-copy\n",
      "  filtered['docQuery'] = filtered.apply(lambda row: get_query_from_doc(row, 5), axis=1)\n"
     ]
    }
   ],
   "source": [
    "df['n_unique_words'] = df['docContent'].str.split().apply(lambda x: np.unique(x).size)\n",
    "at_least_five_unique_words = df['n_unique_words'] >= 5\n",
    "filtered = df[at_least_five_unique_words]\n",
    "filtered['docQuery'] = filtered.apply(lambda row: get_query_from_doc(row, 5), axis=1)\n",
    "filtered['expectedDocIds'] = filtered['docIds']"
   ]
  },
  {
   "cell_type": "code",
   "execution_count": 67,
   "metadata": {},
   "outputs": [],
   "source": [
    "jl.to_jsonl(filtered[['expectedDocIds', 'docType', 'docQuery']], 'tf_idf.test.jsonl')"
   ]
  }
 ],
 "metadata": {
  "interpreter": {
   "hash": "b39dcb3d3362ff747ddce896d3961166e3de0f67646b9052166a268c283e04ff"
  },
  "kernelspec": {
   "display_name": "Python 3.8.3 ('base')",
   "language": "python",
   "name": "python3"
  },
  "language_info": {
   "codemirror_mode": {
    "name": "ipython",
    "version": 3
   },
   "file_extension": ".py",
   "mimetype": "text/x-python",
   "name": "python",
   "nbconvert_exporter": "python",
   "pygments_lexer": "ipython3",
   "version": "3.8.3"
  },
  "orig_nbformat": 4
 },
 "nbformat": 4,
 "nbformat_minor": 2
}
