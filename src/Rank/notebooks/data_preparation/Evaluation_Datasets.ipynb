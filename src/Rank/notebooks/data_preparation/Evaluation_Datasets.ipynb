{
 "cells": [
  {
   "cell_type": "code",
   "execution_count": 1,
   "metadata": {},
   "outputs": [],
   "source": [
    "# Always reload modules to have the current version\n",
    "%reload_ext autoreload\n",
    "%autoreload 2\n"
   ]
  },
  {
   "cell_type": "code",
   "execution_count": 2,
   "metadata": {},
   "outputs": [],
   "source": [
    "from sklearn.feature_extraction.text import TfidfVectorizer\n",
    "from ranking.util import json_lines as jl\n",
    "from ranking.util import dataset_paths as dp\n",
    "import pandas as pd\n",
    "import numpy as np\n"
   ]
  },
  {
   "cell_type": "code",
   "execution_count": 3,
   "metadata": {},
   "outputs": [],
   "source": [
    "def calculate_tfidf_for_dataset(corpus) -> pd.DataFrame:\n",
    "    vectorizer = TfidfVectorizer()\n",
    "    result = vectorizer.fit_transform(corpus)\n",
    "    idf_df = pd.DataFrame.sparse.from_spmatrix(result, columns=vectorizer.get_feature_names())\n",
    "    return idf_df\n",
    "\n",
    "def lookup_tfidf_weight(df_tfidf: pd.DataFrame, storage_id, word):\n",
    "    if word in df_tfidf.columns:\n",
    "        return df_tfidf.at[storage_id, word]\n",
    "    else:\n",
    "        return 0\n",
    "\n",
    "def apply_tfidf_weights_to_doc(tfidf: pd.DataFrame, storage_id, doc):\n",
    "    return [(word, lookup_tfidf_weight(tfidf, storage_id, word)) for word in doc.split()]\n",
    "\n",
    "def create_tfidf_dataset(df: pd.DataFrame, min_unique_words=5):\n",
    "    groups = df.groupby('storageId')\n",
    "    corpus = groups['docContent'].first()\n",
    "    tfidf = calculate_tfidf_for_dataset(corpus)\n",
    "    eval_dataset = groups.first()\n",
    "    eval_dataset['n_unique_words'] = eval_dataset['docContent'].str.split().apply(lambda x: np.unique(x).size)\n",
    "    eval_dataset = eval_dataset[eval_dataset['n_unique_words'] >= min_unique_words]\n",
    "    eval_dataset['tfidf'] = eval_dataset.apply(lambda row: apply_tfidf_weights_to_doc(tfidf, row.name, row['docContent']), axis=1)\n",
    "    eval_dataset['docQuery'] = eval_dataset.apply(lambda row: get_query_from_doc(row, get_n_words_to_extract(row)), axis=1)\n",
    "    return eval_dataset\n",
    "\n",
    "def get_n_words_to_extract(row, percent=0.3):\n",
    "    n_unique_words = row['n_unique_words']\n",
    "    n = round(n_unique_words * percent)\n",
    "    return n\n",
    "\n",
    "def get_query_from_doc(row, n):\n",
    "    unique_weighed_words = list(dict.fromkeys(row['tfidf']))\n",
    "    max_n_scored_words = sorted(unique_weighed_words, key=lambda word_weight: word_weight[1], reverse=True)[:n]\n",
    "    query = ' '.join([word for word, _ in max_n_scored_words])\n",
    "    return query"
   ]
  },
  {
   "cell_type": "code",
   "execution_count": 4,
   "metadata": {},
   "outputs": [],
   "source": [
    "dataset = jl.read_dataset(dp.tokenized_unique_functions_corpus)\n",
    "tfidf_ds = create_tfidf_dataset(dataset)\n",
    "jl.write_dataset(tfidf_ds[['docType', 'docQuery']], 'complete-tfidf-evalset.jsonl')\n"
   ]
  }
 ],
 "metadata": {
  "interpreter": {
   "hash": "b39dcb3d3362ff747ddce896d3961166e3de0f67646b9052166a268c283e04ff"
  },
  "kernelspec": {
   "display_name": "Python 3.8.3 ('base')",
   "language": "python",
   "name": "python3"
  },
  "language_info": {
   "codemirror_mode": {
    "name": "ipython",
    "version": 3
   },
   "file_extension": ".py",
   "mimetype": "text/x-python",
   "name": "python",
   "nbconvert_exporter": "python",
   "pygments_lexer": "ipython3",
   "version": "3.9.7"
  },
  "orig_nbformat": 4
 },
 "nbformat": 4,
 "nbformat_minor": 2
}
