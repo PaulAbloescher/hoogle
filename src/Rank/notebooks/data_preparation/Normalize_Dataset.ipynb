{
 "cells": [
  {
   "cell_type": "code",
   "execution_count": 6,
   "metadata": {},
   "outputs": [],
   "source": [
    "# Always reload modules to have the current version\n",
    "%reload_ext autoreload\n",
    "%autoreload 2"
   ]
  },
  {
   "cell_type": "code",
   "execution_count": 7,
   "metadata": {},
   "outputs": [],
   "source": [
    "from ranking.normalization.normalizer import normalize, get_wn_stopwords\n",
    "from ranking.util import json_lines as jl\n",
    "from ranking.util import dataset_paths as dp\n",
    "import pandas as pd\n",
    "\n",
    "input_file = ''\n",
    "output_file = ''"
   ]
  },
  {
   "cell_type": "code",
   "execution_count": 8,
   "metadata": {},
   "outputs": [],
   "source": [
    "def normalize_dataset(df: pd.DataFrame) -> pd.DataFrame:\n",
    "    groups = df.groupby('storageId')\n",
    "    df['docContent'] = groups['docContent'].transform('first').apply(lambda content: normalize(content, stop=get_wn_stopwords()))\n",
    "    return df\n",
    "\n",
    "def only_tokenize_dataset(df: pd.DataFrame) -> pd.DataFrame:\n",
    "    groups = df.groupby('storageId')\n",
    "    df['docContent'] = groups['docContent'].transform('first').apply(lambda content: normalize(content, lambda text: text))\n",
    "    return df"
   ]
  },
  {
   "cell_type": "code",
   "execution_count": 9,
   "metadata": {},
   "outputs": [],
   "source": [
    "ds = jl.read_dataset(input_file)\n",
    "normalized_ds = normalize_dataset(ds)\n",
    "jl.write_dataset(normalized_ds, output_file)"
   ]
  }
 ],
 "metadata": {
  "interpreter": {
   "hash": "b39dcb3d3362ff747ddce896d3961166e3de0f67646b9052166a268c283e04ff"
  },
  "kernelspec": {
   "display_name": "Python 3.8.3 ('base')",
   "language": "python",
   "name": "python3"
  },
  "language_info": {
   "codemirror_mode": {
    "name": "ipython",
    "version": 3
   },
   "file_extension": ".py",
   "mimetype": "text/x-python",
   "name": "python",
   "nbconvert_exporter": "python",
   "pygments_lexer": "ipython3",
   "version": "3.8.3"
  },
  "orig_nbformat": 4
 },
 "nbformat": 4,
 "nbformat_minor": 2
}
