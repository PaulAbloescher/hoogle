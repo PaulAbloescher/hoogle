{
 "cells": [
  {
   "cell_type": "code",
   "execution_count": 34,
   "metadata": {},
   "outputs": [],
   "source": [
    "# Always reload modules to have the current version\n",
    "%reload_ext autoreload\n",
    "%autoreload 2"
   ]
  },
  {
   "cell_type": "code",
   "execution_count": 35,
   "metadata": {},
   "outputs": [],
   "source": [
    "from ranking.normalization.normalizer import normalize\n",
    "from ranking.util import json_lines as jl\n",
    "import pandas as pd\n",
    "\n",
    "input_file = 'all-unique-functions.jsonl'\n",
    "output_file = 'lem-all-unique-functions.jsonl'"
   ]
  },
  {
   "cell_type": "code",
   "execution_count": 36,
   "metadata": {},
   "outputs": [],
   "source": [
    "def normalize_dataset(finput, foutput, language='english'):\n",
    "    df = jl.read_jsonl(finput)\n",
    "    for i, row in df.iterrows():\n",
    "        docContent = df.iloc[i]['docContent']\n",
    "        df.at[i, 'docContent'] = normalize(docContent)\n",
    "    jl.to_jsonl(df, foutput)\n"
   ]
  },
  {
   "cell_type": "code",
   "execution_count": 37,
   "metadata": {},
   "outputs": [],
   "source": [
    "normalize_dataset(input_file, output_file)"
   ]
  }
 ],
 "metadata": {
  "interpreter": {
   "hash": "b39dcb3d3362ff747ddce896d3961166e3de0f67646b9052166a268c283e04ff"
  },
  "kernelspec": {
   "display_name": "Python 3.8.3 ('base')",
   "language": "python",
   "name": "python3"
  },
  "language_info": {
   "codemirror_mode": {
    "name": "ipython",
    "version": 3
   },
   "file_extension": ".py",
   "mimetype": "text/x-python",
   "name": "python",
   "nbconvert_exporter": "python",
   "pygments_lexer": "ipython3",
   "version": "3.8.3"
  },
  "orig_nbformat": 4
 },
 "nbformat": 4,
 "nbformat_minor": 2
}
