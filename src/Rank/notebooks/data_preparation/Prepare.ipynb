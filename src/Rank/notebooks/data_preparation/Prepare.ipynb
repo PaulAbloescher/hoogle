{
 "cells": [
  {
   "cell_type": "code",
   "execution_count": 20,
   "metadata": {},
   "outputs": [],
   "source": [
    "from nltk import pos_tag\n",
    "from nltk.corpus import stopwords\n",
    "from nltk.stem import WordNetLemmatizer\n",
    "from nltk.stem.snowball import SnowballStemmer\n",
    "from nltk.tokenize import word_tokenize\n",
    "from os import path\n",
    "import json\n"
   ]
  },
  {
   "cell_type": "code",
   "execution_count": 21,
   "metadata": {},
   "outputs": [],
   "source": [
    "# call nltk.help.upenn_tagset() to view all pos-tags\n",
    "def translate_pos_tags(tag: str):\n",
    "    if tag.startswith('NN'):\n",
    "        return 'n'\n",
    "    elif tag.startswith('VB'):\n",
    "        return 'v'\n",
    "    elif tag.startswith('JJ'):\n",
    "        return 'a'\n",
    "    elif tag.startswith('RB'):\n",
    "        return 'r'\n",
    "    else: return 'n'\n",
    "\n",
    "def get_pos_tags(tokens):\n",
    "    return [(word, translate_pos_tags(tag)) for word, tag in pos_tag(tokens)]\n"
   ]
  },
  {
   "cell_type": "code",
   "execution_count": 22,
   "metadata": {},
   "outputs": [],
   "source": [
    "def tokenize(text, language='english'):\n",
    "    stop = set(stopwords.words(language))\n",
    "    return [token for token in word_tokenize(text) if token not in stop and token.isalnum()]\n"
   ]
  },
  {
   "cell_type": "code",
   "execution_count": 23,
   "metadata": {},
   "outputs": [],
   "source": [
    "def stem(tokens, language='english'):\n",
    "    stemmer = SnowballStemmer(language)\n",
    "    return [stemmer.stem(token) for token in tokens]\n"
   ]
  },
  {
   "cell_type": "code",
   "execution_count": 24,
   "metadata": {},
   "outputs": [],
   "source": [
    "def lemmatize(tokens):\n",
    "    lemmatizer = WordNetLemmatizer()\n",
    "    return [lemmatizer.lemmatize(token, tag) for token, tag in get_pos_tags(tokens)]\n"
   ]
  },
  {
   "cell_type": "code",
   "execution_count": 33,
   "metadata": {},
   "outputs": [
    {
     "name": "stdout",
     "output_type": "stream",
     "text": [
      "['lemmatization', 'process', 'turn', 'word', 'thesaurus', 'representation']\n"
     ]
    }
   ],
   "source": [
    "def normalize(text, language='english'):\n",
    "    tokens = word_tokenize(text)\n",
    "    tokens = [token for token in tokens if token.isalnum()]\n",
    "    tokens = lemmatize(tokens)\n",
    "    stop = set(stopwords.words(language))\n",
    "    tokens = [token for token in tokens if token not in stop]\n",
    "    return tokens\n"
   ]
  },
  {
   "cell_type": "code",
   "execution_count": 11,
   "metadata": {},
   "outputs": [],
   "source": [
    "def tokenizeFile(targetFile, language='english'):\n",
    "    targetFileName = path.basename(targetFile)\n",
    "    destinationFileName = \"tokenized.\" + targetFileName\n",
    "    with open(targetFile, encoding='utf-8') as fin, open(destinationFileName, 'w', newline='') as fout:\n",
    "        for row in fin:\n",
    "            doc = json.loads(row)\n",
    "            content = doc['content']\n",
    "            doc['content'] = \" \".join(normalize(content))\n",
    "            print(json.dumps(doc), file=fout)\n"
   ]
  },
  {
   "cell_type": "code",
   "execution_count": 12,
   "metadata": {},
   "outputs": [],
   "source": [
    "# source = '..\\\\..\\\\datasets\\\\raw.dump.jsonl'\n",
    "# tokenizeFile(source)"
   ]
  }
 ],
 "metadata": {
  "interpreter": {
   "hash": "b39dcb3d3362ff747ddce896d3961166e3de0f67646b9052166a268c283e04ff"
  },
  "kernelspec": {
   "display_name": "Python 3.8.3 ('base')",
   "language": "python",
   "name": "python3"
  },
  "language_info": {
   "codemirror_mode": {
    "name": "ipython",
    "version": 3
   },
   "file_extension": ".py",
   "mimetype": "text/x-python",
   "name": "python",
   "nbconvert_exporter": "python",
   "pygments_lexer": "ipython3",
   "version": "3.8.3"
  },
  "orig_nbformat": 4
 },
 "nbformat": 4,
 "nbformat_minor": 2
}
