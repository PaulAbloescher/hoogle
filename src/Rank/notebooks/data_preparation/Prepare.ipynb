{
 "cells": [
  {
   "cell_type": "code",
   "execution_count": 1,
   "metadata": {},
   "outputs": [],
   "source": [
    "from nltk.tokenize import word_tokenize\n",
    "from nltk.corpus import stopwords\n",
    "from nltk.stem.snowball import SnowballStemmer\n",
    "from nltk.stem import WordNetLemmatizer\n",
    "from os import path\n",
    "import json\n"
   ]
  },
  {
   "cell_type": "code",
   "execution_count": 2,
   "metadata": {},
   "outputs": [],
   "source": [
    "def normalize(text, language='english'):\n",
    "    tokens = word_tokenize(text)\n",
    "    stop = set(stopwords.words(language))\n",
    "    tokens = [token for token in tokens if token not in stop]\n",
    "    tokens = [token for token in tokens if token.isalnum()]\n",
    "    tokens = lemmatize(tokens)\n",
    "    return tokens\n"
   ]
  },
  {
   "cell_type": "code",
   "execution_count": 3,
   "metadata": {},
   "outputs": [],
   "source": [
    "def tokenize(text, language='english'):\n",
    "    stop = set(stopwords.words(language))\n",
    "    return [token for token in word_tokenize(text) if token not in stop and token.isalnum()]\n"
   ]
  },
  {
   "cell_type": "code",
   "execution_count": 4,
   "metadata": {},
   "outputs": [],
   "source": [
    "def stem(tokens, language='english'):\n",
    "    stemmer = SnowballStemmer(language)\n",
    "    return [stemmer.stem(token) for token in tokens]\n"
   ]
  },
  {
   "cell_type": "code",
   "execution_count": 5,
   "metadata": {},
   "outputs": [],
   "source": [
    "def lemmatize(tokens):\n",
    "    lemmatizer = WordNetLemmatizer()\n",
    "    return [lemmatizer.lemmatize(token) for token in tokens]\n"
   ]
  },
  {
   "cell_type": "code",
   "execution_count": 11,
   "metadata": {},
   "outputs": [],
   "source": [
    "def tokenizeFile(targetFile, language='english'):\n",
    "    targetFileName = path.basename(targetFile)\n",
    "    destinationFileName = \"tokenized.\" + targetFileName\n",
    "    with open(targetFile, encoding='utf-8') as fin, open(destinationFileName, 'w', newline='') as fout:\n",
    "        for row in fin:\n",
    "            doc = json.loads(row)\n",
    "            content = doc['content']\n",
    "            doc['content'] = \" \".join(normalize(content))\n",
    "            print(json.dumps(doc), file=fout)\n"
   ]
  },
  {
   "cell_type": "code",
   "execution_count": 12,
   "metadata": {},
   "outputs": [],
   "source": [
    "source = '..\\\\..\\\\datasets\\\\raw.dump.jsonl'\n",
    "tokenizeFile(source)"
   ]
  }
 ],
 "metadata": {
  "interpreter": {
   "hash": "b39dcb3d3362ff747ddce896d3961166e3de0f67646b9052166a268c283e04ff"
  },
  "kernelspec": {
   "display_name": "Python 3.8.3 ('base')",
   "language": "python",
   "name": "python3"
  },
  "language_info": {
   "codemirror_mode": {
    "name": "ipython",
    "version": 3
   },
   "file_extension": ".py",
   "mimetype": "text/x-python",
   "name": "python",
   "nbconvert_exporter": "python",
   "pygments_lexer": "ipython3",
   "version": "3.8.3"
  },
  "orig_nbformat": 4
 },
 "nbformat": 4,
 "nbformat_minor": 2
}
