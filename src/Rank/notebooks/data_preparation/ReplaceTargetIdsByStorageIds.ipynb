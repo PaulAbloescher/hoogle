{
 "cells": [
  {
   "cell_type": "code",
   "execution_count": 60,
   "metadata": {},
   "outputs": [],
   "source": [
    "# Always reload modules to have the current version\n",
    "%reload_ext autoreload\n",
    "%autoreload 2\n"
   ]
  },
  {
   "cell_type": "code",
   "execution_count": 61,
   "metadata": {},
   "outputs": [],
   "source": [
    "from ranking.storage.document_store import DocumentStore\n",
    "from ranking.util import json_lines as jl\n",
    "from ranking.util import dataset_paths as dp\n",
    "import dask.dataframe as dd\n",
    "import pandas as pd\n",
    "\n",
    "store = DocumentStore(dp.tokenized_unique_functions_corpus)\n",
    "df = jl.read_jsonl('')\n",
    "ddf = dd.from_pandas(df, npartitions=16)\n"
   ]
  },
  {
   "cell_type": "code",
   "execution_count": 62,
   "metadata": {},
   "outputs": [],
   "source": [
    "def apply_hoogle_to_storage_ids(row: pd.Series):\n",
    "    return store.get_storage_ids_for_hoogle_ids(row['queryRes'])"
   ]
  },
  {
   "cell_type": "code",
   "execution_count": 63,
   "metadata": {},
   "outputs": [
    {
     "data": {
      "text/plain": [
       "0         [103961, 191, 24, 1, 102127, 190, 104016, 1068...\n",
       "1         [19, 103868, 384341, 163645, 2, 3724, 192887, ...\n",
       "2                                               [103823, 3]\n",
       "3                                               [4, 182733]\n",
       "4                                                  [5, 161]\n",
       "                                ...                        \n",
       "174232    [48812, 50815, 91982, 105831, 113708, 141550, ...\n",
       "174233    [96394, 387627, 315439, 300985, 300988, 404467...\n",
       "174234    [296312, 362252, 404983, 283483, 265418, 27461...\n",
       "174235    [406292, 169061, 169018, 168909, 102009, 92805...\n",
       "174236    [406294, 141134, 165078, 103033, 193730, 16524...\n",
       "Name: result, Length: 174237, dtype: object"
      ]
     },
     "execution_count": 63,
     "metadata": {},
     "output_type": "execute_result"
    }
   ],
   "source": [
    "res = ddf.apply(\n",
    "    apply_hoogle_to_storage_ids,\n",
    "    axis=1,\n",
    "    meta=('result', int)\n",
    ").compute()\n",
    "res\n"
   ]
  },
  {
   "cell_type": "code",
   "execution_count": 68,
   "metadata": {},
   "outputs": [],
   "source": [
    "df['hoogleRes'] = res\n",
    "# jl.to_jsonl(df[['storageId','docType','docQuery','hoogleRes']], 'complete-tfidf-evalset-storage-results.jsonl')"
   ]
  }
 ],
 "metadata": {
  "interpreter": {
   "hash": "b39dcb3d3362ff747ddce896d3961166e3de0f67646b9052166a268c283e04ff"
  },
  "kernelspec": {
   "display_name": "Python 3.8.3 ('base')",
   "language": "python",
   "name": "python3"
  },
  "language_info": {
   "codemirror_mode": {
    "name": "ipython",
    "version": 3
   },
   "file_extension": ".py",
   "mimetype": "text/x-python",
   "name": "python",
   "nbconvert_exporter": "python",
   "pygments_lexer": "ipython3",
   "version": "3.8.3"
  },
  "orig_nbformat": 4
 },
 "nbformat": 4,
 "nbformat_minor": 2
}
