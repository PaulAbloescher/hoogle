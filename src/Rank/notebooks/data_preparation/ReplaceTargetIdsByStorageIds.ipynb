{
 "cells": [
  {
   "cell_type": "code",
   "execution_count": 1,
   "metadata": {},
   "outputs": [],
   "source": [
    "# Always reload modules to have the current version\n",
    "%reload_ext autoreload\n",
    "%autoreload 2\n"
   ]
  },
  {
   "cell_type": "code",
   "execution_count": 2,
   "metadata": {},
   "outputs": [
    {
     "name": "stderr",
     "output_type": "stream",
     "text": [
      "C:\\Users\\Paul\\anaconda3\\lib\\site-packages\\dask\\dataframe\\utils.py:366: FutureWarning: pandas.Int64Index is deprecated and will be removed from pandas in a future version. Use pandas.Index with the appropriate dtype instead.\n",
      "  _numeric_index_types = (pd.Int64Index, pd.Float64Index, pd.UInt64Index)\n",
      "C:\\Users\\Paul\\anaconda3\\lib\\site-packages\\dask\\dataframe\\utils.py:366: FutureWarning: pandas.Float64Index is deprecated and will be removed from pandas in a future version. Use pandas.Index with the appropriate dtype instead.\n",
      "  _numeric_index_types = (pd.Int64Index, pd.Float64Index, pd.UInt64Index)\n",
      "C:\\Users\\Paul\\anaconda3\\lib\\site-packages\\dask\\dataframe\\utils.py:366: FutureWarning: pandas.UInt64Index is deprecated and will be removed from pandas in a future version. Use pandas.Index with the appropriate dtype instead.\n",
      "  _numeric_index_types = (pd.Int64Index, pd.Float64Index, pd.UInt64Index)\n"
     ]
    }
   ],
   "source": [
    "from ranking.storage.document_store import DocumentStore\n",
    "from ranking.util import json_lines as jl\n",
    "import dask.dataframe as dd\n",
    "import pandas as pd\n",
    "\n",
    "store = DocumentStore('lem-test-all-unique-functions.jsonl')\n",
    "df = jl.read_jsonl('eval-result-test.jsonl')\n",
    "ddf = dd.from_pandas(df, npartitions=16)\n"
   ]
  },
  {
   "cell_type": "code",
   "execution_count": 3,
   "metadata": {},
   "outputs": [],
   "source": [
    "def apply_hoogle_to_storage_ids(row: pd.Series):\n",
    "    return store.get_storage_ids_for_hoogle_ids(row['queryRes'])"
   ]
  },
  {
   "cell_type": "code",
   "execution_count": 4,
   "metadata": {},
   "outputs": [
    {
     "data": {
      "text/plain": [
       "0         [144, 18, 0, 34295, 143, 35509, 37066, 112651,...\n",
       "1         [15, 35410, 73713, 1, 2448, 90817, 76, 203843,...\n",
       "2                                                [35371, 2]\n",
       "3                                                       [3]\n",
       "4                                [5, 90817, 145025, 108976]\n",
       "                                ...                        \n",
       "143117    [14162, 14681, 36734, 153696, 158118, 167607, ...\n",
       "143118    [30879, 206165, 163258, 154152, 154154, 214842...\n",
       "143119    [190898, 139699, 112967, 215651, 33649, 76876,...\n",
       "143120    [215652, 76876, 76855, 76802, 28599, 130169, 6...\n",
       "143121    [215653, 57808, 74550, 34841, 91334, 74668, 78...\n",
       "Name: result, Length: 143122, dtype: object"
      ]
     },
     "execution_count": 4,
     "metadata": {},
     "output_type": "execute_result"
    }
   ],
   "source": [
    "res = ddf.apply(\n",
    "    apply_hoogle_to_storage_ids,\n",
    "    axis=1,\n",
    "    meta=('result', int)\n",
    ").compute()\n",
    "res\n"
   ]
  },
  {
   "cell_type": "code",
   "execution_count": 10,
   "metadata": {},
   "outputs": [],
   "source": [
    "df['hoogleRes'] = res"
   ]
  }
 ],
 "metadata": {
  "interpreter": {
   "hash": "b39dcb3d3362ff747ddce896d3961166e3de0f67646b9052166a268c283e04ff"
  },
  "kernelspec": {
   "display_name": "Python 3.8.3 ('base')",
   "language": "python",
   "name": "python3"
  },
  "language_info": {
   "codemirror_mode": {
    "name": "ipython",
    "version": 3
   },
   "file_extension": ".py",
   "mimetype": "text/x-python",
   "name": "python",
   "nbconvert_exporter": "python",
   "pygments_lexer": "ipython3",
   "version": "3.8.3"
  },
  "orig_nbformat": 4
 },
 "nbformat": 4,
 "nbformat_minor": 2
}
