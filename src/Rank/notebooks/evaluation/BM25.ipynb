{
 "cells": [
  {
   "cell_type": "code",
   "execution_count": 5,
   "metadata": {},
   "outputs": [],
   "source": [
    "# Always reload modules to have the current version\n",
    "%reload_ext autoreload\n",
    "%autoreload 2"
   ]
  },
  {
   "cell_type": "code",
   "execution_count": 6,
   "metadata": {},
   "outputs": [],
   "source": [
    "from ranking.models.bm25 import BM25Model\n",
    "from ranking.storage.document_store import DocumentStore\n",
    "from ranking.util import dataset_paths as dp\n",
    "from ranking.util import json_lines as jl\n",
    "import dask.dataframe as dd\n",
    "import ranking.evaluation.evaluate as ev\n",
    "\n",
    "store = DocumentStore(dp.lemmatized_unique_functions_corpus)\n",
    "eval_set = jl.read_jsonl(dp.unified_hoogle_results)\n",
    "ddf = dd.from_pandas(eval_set, npartitions=16)\n",
    "model = BM25Model(store)"
   ]
  },
  {
   "cell_type": "code",
   "execution_count": 7,
   "metadata": {},
   "outputs": [],
   "source": [
    "bm25_result = ddf.apply(\n",
    "    lambda row: model.rank(row['docQuery'].split(), row['hoogleRes']),\n",
    "    axis=1,\n",
    "    meta=('result', int)\n",
    ").compute()\n",
    "eval_set['bm25res'] = bm25_result \n",
    "eval_set['bm25Rank'] = eval_set.apply(lambda row: ev.get_rank(row['storageId'], row['bm25res']), axis=1)"
   ]
  },
  {
   "cell_type": "code",
   "execution_count": 8,
   "metadata": {},
   "outputs": [
    {
     "name": "stdout",
     "output_type": "stream",
     "text": [
      "Hoogle + BM25:\n",
      "   Total  TopOne Total:  TopOne in %  TopTen Total:  TopTen in %       MRR\n",
      "0   1000            871        0.871            979        0.979  0.920583\n"
     ]
    }
   ],
   "source": [
    "print('Hoogle + BM25:')\n",
    "print(ev.evaluate(eval_set['bm25Rank']))"
   ]
  }
 ],
 "metadata": {
  "interpreter": {
   "hash": "b39dcb3d3362ff747ddce896d3961166e3de0f67646b9052166a268c283e04ff"
  },
  "kernelspec": {
   "display_name": "Python 3.8.3 ('base')",
   "language": "python",
   "name": "python3"
  },
  "language_info": {
   "codemirror_mode": {
    "name": "ipython",
    "version": 3
   },
   "file_extension": ".py",
   "mimetype": "text/x-python",
   "name": "python",
   "nbconvert_exporter": "python",
   "pygments_lexer": "ipython3",
   "version": "3.8.3"
  },
  "orig_nbformat": 4
 },
 "nbformat": 4,
 "nbformat_minor": 2
}
