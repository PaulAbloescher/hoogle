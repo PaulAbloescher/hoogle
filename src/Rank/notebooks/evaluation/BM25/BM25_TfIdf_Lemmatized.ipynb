{
 "cells": [
  {
   "cell_type": "code",
   "execution_count": 1,
   "metadata": {},
   "outputs": [],
   "source": [
    "# Always reload modules to have the current version\n",
    "%reload_ext autoreload\n",
    "%autoreload 2"
   ]
  },
  {
   "cell_type": "code",
   "execution_count": 2,
   "metadata": {},
   "outputs": [],
   "source": [
    "from ranking.models.bm25 import BM25Model\n",
    "from ranking.storage.document_store import DocumentStore\n",
    "from ranking.util import dataset_paths as dp\n",
    "from ranking.util import json_lines as jl\n",
    "import ranking.evaluation.evaluate as ev\n",
    "\n",
    "store = DocumentStore(dp.lemmatized_unique_functions_corpus)\n",
    "eval_set = jl.read_jsonl(dp.lemmatized_tfidf_evaluation_set)\n",
    "eval_set['docQuery'] = eval_set['docQuery'].str.split().str[:6].str.join(' ')\n",
    "model = BM25Model(store)\n"
   ]
  },
  {
   "cell_type": "code",
   "execution_count": 3,
   "metadata": {},
   "outputs": [
    {
     "name": "stdout",
     "output_type": "stream",
     "text": [
      "Hoogle + BM25:\n"
     ]
    },
    {
     "name": "stderr",
     "output_type": "stream",
     "text": [
      "Evaluation progress: 100%|██████████| 172957/172957 [1:30:02<00:00, 32.02it/s]\n"
     ]
    },
    {
     "data": {
      "text/html": [
       "<div>\n",
       "<style scoped>\n",
       "    .dataframe tbody tr th:only-of-type {\n",
       "        vertical-align: middle;\n",
       "    }\n",
       "\n",
       "    .dataframe tbody tr th {\n",
       "        vertical-align: top;\n",
       "    }\n",
       "\n",
       "    .dataframe thead th {\n",
       "        text-align: right;\n",
       "    }\n",
       "</style>\n",
       "<table border=\"1\" class=\"dataframe\">\n",
       "  <thead>\n",
       "    <tr style=\"text-align: right;\">\n",
       "      <th></th>\n",
       "      <th>Total</th>\n",
       "      <th>TopOne Total:</th>\n",
       "      <th>TopOne in %</th>\n",
       "      <th>TopTen Total:</th>\n",
       "      <th>TopTen in %</th>\n",
       "      <th>MRR</th>\n",
       "    </tr>\n",
       "  </thead>\n",
       "  <tbody>\n",
       "    <tr>\n",
       "      <th>0</th>\n",
       "      <td>172957</td>\n",
       "      <td>156874</td>\n",
       "      <td>0.907012</td>\n",
       "      <td>167405</td>\n",
       "      <td>0.9679</td>\n",
       "      <td>0.932873</td>\n",
       "    </tr>\n",
       "  </tbody>\n",
       "</table>\n",
       "</div>"
      ],
      "text/plain": [
       "    Total  TopOne Total:  TopOne in %  TopTen Total:  TopTen in %       MRR\n",
       "0  172957         156874     0.907012         167405       0.9679  0.932873"
      ]
     },
     "execution_count": 3,
     "metadata": {},
     "output_type": "execute_result"
    }
   ],
   "source": [
    "print('Hoogle + BM25:')\n",
    "ev.evaluate_model(model, eval_set)"
   ]
  }
 ],
 "metadata": {
  "interpreter": {
   "hash": "b39dcb3d3362ff747ddce896d3961166e3de0f67646b9052166a268c283e04ff"
  },
  "kernelspec": {
   "display_name": "Python 3.8.3 ('base')",
   "language": "python",
   "name": "python3"
  },
  "language_info": {
   "codemirror_mode": {
    "name": "ipython",
    "version": 3
   },
   "file_extension": ".py",
   "mimetype": "text/x-python",
   "name": "python",
   "nbconvert_exporter": "python",
   "pygments_lexer": "ipython3",
   "version": "3.8.3"
  },
  "orig_nbformat": 4
 },
 "nbformat": 4,
 "nbformat_minor": 2
}
