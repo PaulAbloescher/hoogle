{
 "cells": [
  {
   "cell_type": "code",
   "execution_count": 29,
   "metadata": {},
   "outputs": [],
   "source": [
    "# Always reload modules to have the current version\n",
    "%reload_ext autoreload\n",
    "%autoreload 2\n"
   ]
  },
  {
   "cell_type": "code",
   "execution_count": 30,
   "metadata": {},
   "outputs": [],
   "source": [
    "from ranking.models.fasttext import FastTextModel\n",
    "from ranking.storage.document_store import DocumentStore\n",
    "from ranking.util import dataset_paths as dp\n",
    "from ranking.util import json_lines as jl\n",
    "from ranking.util.corpus import CorpusReader\n",
    "import os\n",
    "import ranking.evaluation.evaluate as ev\n",
    "\n",
    "corpus_name = 'my-new-corpus.txt'\n",
    "model_name = 'sg-fastText_model.pkl'\n",
    "\n",
    "if os.path.exists(model_name):\n",
    "    model = FastTextModel.load(model_name)\n",
    "else:\n",
    "    store = DocumentStore(dp.lemmatized_unique_functions_corpus)\n",
    "    corpus = CorpusReader(corpus_name)\n",
    "    model = FastTextModel(store, corpus)\n",
    "    model.save(model_name)\n"
   ]
  },
  {
   "cell_type": "code",
   "execution_count": 31,
   "metadata": {},
   "outputs": [],
   "source": [
    "eval_set = jl.read_jsonl(dp.unified_hoogle_results)\n",
    "eval_set = eval_set[eval_set['hoogleRes'].str.len() > 0]\n",
    "fasttext_result = eval_set.apply(\n",
    "    lambda row: model.rank(row['docQuery'].split(), row['hoogleRes']),\n",
    "    axis=1,\n",
    ")\n",
    "eval_set['fasttextres'] = fasttext_result  \n",
    "eval_set['fasttextRank'] = eval_set.apply(lambda row: ev.get_rank(row['storageId'], row['fasttextres']), axis=1)"
   ]
  },
  {
   "cell_type": "code",
   "execution_count": 32,
   "metadata": {},
   "outputs": [
    {
     "name": "stdout",
     "output_type": "stream",
     "text": [
      "Hoogle + FastText:\n"
     ]
    },
    {
     "data": {
      "text/html": [
       "<div>\n",
       "<style scoped>\n",
       "    .dataframe tbody tr th:only-of-type {\n",
       "        vertical-align: middle;\n",
       "    }\n",
       "\n",
       "    .dataframe tbody tr th {\n",
       "        vertical-align: top;\n",
       "    }\n",
       "\n",
       "    .dataframe thead th {\n",
       "        text-align: right;\n",
       "    }\n",
       "</style>\n",
       "<table border=\"1\" class=\"dataframe\">\n",
       "  <thead>\n",
       "    <tr style=\"text-align: right;\">\n",
       "      <th></th>\n",
       "      <th>Total</th>\n",
       "      <th>TopOne Total:</th>\n",
       "      <th>TopOne in %</th>\n",
       "      <th>TopTen Total:</th>\n",
       "      <th>TopTen in %</th>\n",
       "      <th>MRR</th>\n",
       "    </tr>\n",
       "  </thead>\n",
       "  <tbody>\n",
       "    <tr>\n",
       "      <th>0</th>\n",
       "      <td>10000</td>\n",
       "      <td>7608</td>\n",
       "      <td>0.7608</td>\n",
       "      <td>8920</td>\n",
       "      <td>0.892</td>\n",
       "      <td>0.814429</td>\n",
       "    </tr>\n",
       "  </tbody>\n",
       "</table>\n",
       "</div>"
      ],
      "text/plain": [
       "   Total  TopOne Total:  TopOne in %  TopTen Total:  TopTen in %       MRR\n",
       "0  10000           7608       0.7608           8920        0.892  0.814429"
      ]
     },
     "execution_count": 32,
     "metadata": {},
     "output_type": "execute_result"
    }
   ],
   "source": [
    "print('Hoogle + FastText:')\n",
    "ev.evaluate(eval_set['fasttextRank'])\n"
   ]
  }
 ],
 "metadata": {
  "interpreter": {
   "hash": "b39dcb3d3362ff747ddce896d3961166e3de0f67646b9052166a268c283e04ff"
  },
  "kernelspec": {
   "display_name": "Python 3.8.3 ('base')",
   "language": "python",
   "name": "python3"
  },
  "language_info": {
   "codemirror_mode": {
    "name": "ipython",
    "version": 3
   },
   "file_extension": ".py",
   "mimetype": "text/x-python",
   "name": "python",
   "nbconvert_exporter": "python",
   "pygments_lexer": "ipython3",
   "version": "3.8.3"
  },
  "orig_nbformat": 4
 },
 "nbformat": 4,
 "nbformat_minor": 2
}
