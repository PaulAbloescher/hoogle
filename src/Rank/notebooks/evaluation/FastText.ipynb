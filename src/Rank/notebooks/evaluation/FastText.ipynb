{
 "cells": [
  {
   "cell_type": "code",
   "execution_count": 62,
   "metadata": {},
   "outputs": [],
   "source": [
    "# Always reload modules to have the current version\n",
    "%reload_ext autoreload\n",
    "%autoreload 2\n"
   ]
  },
  {
   "cell_type": "code",
   "execution_count": 63,
   "metadata": {},
   "outputs": [],
   "source": [
    "from ranking.models.fasttext import FastTextModel\n",
    "from ranking.storage.document_store import DocumentStore\n",
    "from ranking.util import dataset_paths as dp\n",
    "from ranking.util import json_lines as jl\n",
    "from ranking.util.corpus import CorpusReader\n",
    "import os\n",
    "import ranking.evaluation.evaluate as ev\n",
    "\n",
    "corpus_name = 'my-new-corpus.txt'\n",
    "model_name = 'fastText_model.pkl'\n",
    "\n",
    "if os.path.exists(model_name):\n",
    "    model = FastTextModel.load(model_name)\n",
    "else:\n",
    "    store = DocumentStore(dp.lemmatized_unique_functions_corpus)\n",
    "    corpus = CorpusReader('my-new-corpus.txt')\n",
    "    model = FastTextModel(store, corpus)\n",
    "    model.save(model_name)\n"
   ]
  },
  {
   "cell_type": "code",
   "execution_count": 90,
   "metadata": {},
   "outputs": [
    {
     "ename": "KeyboardInterrupt",
     "evalue": "",
     "output_type": "error",
     "traceback": [
      "\u001b[1;31m---------------------------------------------------------------------------\u001b[0m",
      "\u001b[1;31mKeyboardInterrupt\u001b[0m                         Traceback (most recent call last)",
      "\u001b[1;32mc:\\Users\\Paul\\Repos\\hoogle-fork\\src\\Rank\\notebooks\\evaluation\\FastText.ipynb Cell 4'\u001b[0m in \u001b[0;36m<module>\u001b[1;34m\u001b[0m\n\u001b[0;32m      <a href='vscode-notebook-cell:/c%3A/Users/Paul/Repos/hoogle-fork/src/Rank/notebooks/evaluation/FastText.ipynb#ch0000003?line=0'>1</a>\u001b[0m eval_set \u001b[39m=\u001b[39m jl\u001b[39m.\u001b[39mread_jsonl(dp\u001b[39m.\u001b[39munified_hoogle_results)\n\u001b[0;32m      <a href='vscode-notebook-cell:/c%3A/Users/Paul/Repos/hoogle-fork/src/Rank/notebooks/evaluation/FastText.ipynb#ch0000003?line=1'>2</a>\u001b[0m eval_set \u001b[39m=\u001b[39m eval_set[eval_set[\u001b[39m'\u001b[39m\u001b[39mhoogleRes\u001b[39m\u001b[39m'\u001b[39m]\u001b[39m.\u001b[39mstr\u001b[39m.\u001b[39mlen() \u001b[39m>\u001b[39m \u001b[39m0\u001b[39m]\n\u001b[1;32m----> <a href='vscode-notebook-cell:/c%3A/Users/Paul/Repos/hoogle-fork/src/Rank/notebooks/evaluation/FastText.ipynb#ch0000003?line=2'>3</a>\u001b[0m fasttext_result \u001b[39m=\u001b[39m eval_set\u001b[39m.\u001b[39;49mapply(\n\u001b[0;32m      <a href='vscode-notebook-cell:/c%3A/Users/Paul/Repos/hoogle-fork/src/Rank/notebooks/evaluation/FastText.ipynb#ch0000003?line=3'>4</a>\u001b[0m     \u001b[39mlambda\u001b[39;49;00m row: model\u001b[39m.\u001b[39;49mrank(row[\u001b[39m'\u001b[39;49m\u001b[39mdocQuery\u001b[39;49m\u001b[39m'\u001b[39;49m]\u001b[39m.\u001b[39;49msplit(), row[\u001b[39m'\u001b[39;49m\u001b[39mhoogleRes\u001b[39;49m\u001b[39m'\u001b[39;49m]),\n\u001b[0;32m      <a href='vscode-notebook-cell:/c%3A/Users/Paul/Repos/hoogle-fork/src/Rank/notebooks/evaluation/FastText.ipynb#ch0000003?line=4'>5</a>\u001b[0m     axis\u001b[39m=\u001b[39;49m\u001b[39m1\u001b[39;49m,\n\u001b[0;32m      <a href='vscode-notebook-cell:/c%3A/Users/Paul/Repos/hoogle-fork/src/Rank/notebooks/evaluation/FastText.ipynb#ch0000003?line=5'>6</a>\u001b[0m )\n\u001b[0;32m      <a href='vscode-notebook-cell:/c%3A/Users/Paul/Repos/hoogle-fork/src/Rank/notebooks/evaluation/FastText.ipynb#ch0000003?line=6'>7</a>\u001b[0m eval_set[\u001b[39m'\u001b[39m\u001b[39mfasttextres\u001b[39m\u001b[39m'\u001b[39m] \u001b[39m=\u001b[39m fasttext_result  \n\u001b[0;32m      <a href='vscode-notebook-cell:/c%3A/Users/Paul/Repos/hoogle-fork/src/Rank/notebooks/evaluation/FastText.ipynb#ch0000003?line=7'>8</a>\u001b[0m eval_set[\u001b[39m'\u001b[39m\u001b[39mfasttextRank\u001b[39m\u001b[39m'\u001b[39m] \u001b[39m=\u001b[39m eval_set\u001b[39m.\u001b[39mapply(\u001b[39mlambda\u001b[39;00m row: ev\u001b[39m.\u001b[39mget_rank(row[\u001b[39m'\u001b[39m\u001b[39mstorageId\u001b[39m\u001b[39m'\u001b[39m], row[\u001b[39m'\u001b[39m\u001b[39mfasttextres\u001b[39m\u001b[39m'\u001b[39m]), axis\u001b[39m=\u001b[39m\u001b[39m1\u001b[39m)\n",
      "File \u001b[1;32m~\\anaconda3\\lib\\site-packages\\pandas\\core\\frame.py:8833\u001b[0m, in \u001b[0;36mDataFrame.apply\u001b[1;34m(self, func, axis, raw, result_type, args, **kwargs)\u001b[0m\n\u001b[0;32m   <a href='file:///c%3A/Users/Paul/anaconda3/lib/site-packages/pandas/core/frame.py?line=8821'>8822</a>\u001b[0m \u001b[39mfrom\u001b[39;00m \u001b[39mpandas\u001b[39;00m\u001b[39m.\u001b[39;00m\u001b[39mcore\u001b[39;00m\u001b[39m.\u001b[39;00m\u001b[39mapply\u001b[39;00m \u001b[39mimport\u001b[39;00m frame_apply\n\u001b[0;32m   <a href='file:///c%3A/Users/Paul/anaconda3/lib/site-packages/pandas/core/frame.py?line=8823'>8824</a>\u001b[0m op \u001b[39m=\u001b[39m frame_apply(\n\u001b[0;32m   <a href='file:///c%3A/Users/Paul/anaconda3/lib/site-packages/pandas/core/frame.py?line=8824'>8825</a>\u001b[0m     \u001b[39mself\u001b[39m,\n\u001b[0;32m   <a href='file:///c%3A/Users/Paul/anaconda3/lib/site-packages/pandas/core/frame.py?line=8825'>8826</a>\u001b[0m     func\u001b[39m=\u001b[39mfunc,\n\u001b[1;32m   (...)\u001b[0m\n\u001b[0;32m   <a href='file:///c%3A/Users/Paul/anaconda3/lib/site-packages/pandas/core/frame.py?line=8830'>8831</a>\u001b[0m     kwargs\u001b[39m=\u001b[39mkwargs,\n\u001b[0;32m   <a href='file:///c%3A/Users/Paul/anaconda3/lib/site-packages/pandas/core/frame.py?line=8831'>8832</a>\u001b[0m )\n\u001b[1;32m-> <a href='file:///c%3A/Users/Paul/anaconda3/lib/site-packages/pandas/core/frame.py?line=8832'>8833</a>\u001b[0m \u001b[39mreturn\u001b[39;00m op\u001b[39m.\u001b[39;49mapply()\u001b[39m.\u001b[39m__finalize__(\u001b[39mself\u001b[39m, method\u001b[39m=\u001b[39m\u001b[39m\"\u001b[39m\u001b[39mapply\u001b[39m\u001b[39m\"\u001b[39m)\n",
      "File \u001b[1;32m~\\anaconda3\\lib\\site-packages\\pandas\\core\\apply.py:727\u001b[0m, in \u001b[0;36mFrameApply.apply\u001b[1;34m(self)\u001b[0m\n\u001b[0;32m    <a href='file:///c%3A/Users/Paul/anaconda3/lib/site-packages/pandas/core/apply.py?line=723'>724</a>\u001b[0m \u001b[39melif\u001b[39;00m \u001b[39mself\u001b[39m\u001b[39m.\u001b[39mraw:\n\u001b[0;32m    <a href='file:///c%3A/Users/Paul/anaconda3/lib/site-packages/pandas/core/apply.py?line=724'>725</a>\u001b[0m     \u001b[39mreturn\u001b[39;00m \u001b[39mself\u001b[39m\u001b[39m.\u001b[39mapply_raw()\n\u001b[1;32m--> <a href='file:///c%3A/Users/Paul/anaconda3/lib/site-packages/pandas/core/apply.py?line=726'>727</a>\u001b[0m \u001b[39mreturn\u001b[39;00m \u001b[39mself\u001b[39;49m\u001b[39m.\u001b[39;49mapply_standard()\n",
      "File \u001b[1;32m~\\anaconda3\\lib\\site-packages\\pandas\\core\\apply.py:851\u001b[0m, in \u001b[0;36mFrameApply.apply_standard\u001b[1;34m(self)\u001b[0m\n\u001b[0;32m    <a href='file:///c%3A/Users/Paul/anaconda3/lib/site-packages/pandas/core/apply.py?line=849'>850</a>\u001b[0m \u001b[39mdef\u001b[39;00m \u001b[39mapply_standard\u001b[39m(\u001b[39mself\u001b[39m):\n\u001b[1;32m--> <a href='file:///c%3A/Users/Paul/anaconda3/lib/site-packages/pandas/core/apply.py?line=850'>851</a>\u001b[0m     results, res_index \u001b[39m=\u001b[39m \u001b[39mself\u001b[39;49m\u001b[39m.\u001b[39;49mapply_series_generator()\n\u001b[0;32m    <a href='file:///c%3A/Users/Paul/anaconda3/lib/site-packages/pandas/core/apply.py?line=852'>853</a>\u001b[0m     \u001b[39m# wrap results\u001b[39;00m\n\u001b[0;32m    <a href='file:///c%3A/Users/Paul/anaconda3/lib/site-packages/pandas/core/apply.py?line=853'>854</a>\u001b[0m     \u001b[39mreturn\u001b[39;00m \u001b[39mself\u001b[39m\u001b[39m.\u001b[39mwrap_results(results, res_index)\n",
      "File \u001b[1;32m~\\anaconda3\\lib\\site-packages\\pandas\\core\\apply.py:867\u001b[0m, in \u001b[0;36mFrameApply.apply_series_generator\u001b[1;34m(self)\u001b[0m\n\u001b[0;32m    <a href='file:///c%3A/Users/Paul/anaconda3/lib/site-packages/pandas/core/apply.py?line=863'>864</a>\u001b[0m \u001b[39mwith\u001b[39;00m option_context(\u001b[39m\"\u001b[39m\u001b[39mmode.chained_assignment\u001b[39m\u001b[39m\"\u001b[39m, \u001b[39mNone\u001b[39;00m):\n\u001b[0;32m    <a href='file:///c%3A/Users/Paul/anaconda3/lib/site-packages/pandas/core/apply.py?line=864'>865</a>\u001b[0m     \u001b[39mfor\u001b[39;00m i, v \u001b[39min\u001b[39;00m \u001b[39menumerate\u001b[39m(series_gen):\n\u001b[0;32m    <a href='file:///c%3A/Users/Paul/anaconda3/lib/site-packages/pandas/core/apply.py?line=865'>866</a>\u001b[0m         \u001b[39m# ignore SettingWithCopy here in case the user mutates\u001b[39;00m\n\u001b[1;32m--> <a href='file:///c%3A/Users/Paul/anaconda3/lib/site-packages/pandas/core/apply.py?line=866'>867</a>\u001b[0m         results[i] \u001b[39m=\u001b[39m \u001b[39mself\u001b[39;49m\u001b[39m.\u001b[39;49mf(v)\n\u001b[0;32m    <a href='file:///c%3A/Users/Paul/anaconda3/lib/site-packages/pandas/core/apply.py?line=867'>868</a>\u001b[0m         \u001b[39mif\u001b[39;00m \u001b[39misinstance\u001b[39m(results[i], ABCSeries):\n\u001b[0;32m    <a href='file:///c%3A/Users/Paul/anaconda3/lib/site-packages/pandas/core/apply.py?line=868'>869</a>\u001b[0m             \u001b[39m# If we have a view on v, we need to make a copy because\u001b[39;00m\n\u001b[0;32m    <a href='file:///c%3A/Users/Paul/anaconda3/lib/site-packages/pandas/core/apply.py?line=869'>870</a>\u001b[0m             \u001b[39m#  series_generator will swap out the underlying data\u001b[39;00m\n\u001b[0;32m    <a href='file:///c%3A/Users/Paul/anaconda3/lib/site-packages/pandas/core/apply.py?line=870'>871</a>\u001b[0m             results[i] \u001b[39m=\u001b[39m results[i]\u001b[39m.\u001b[39mcopy(deep\u001b[39m=\u001b[39m\u001b[39mFalse\u001b[39;00m)\n",
      "\u001b[1;32mc:\\Users\\Paul\\Repos\\hoogle-fork\\src\\Rank\\notebooks\\evaluation\\FastText.ipynb Cell 4'\u001b[0m in \u001b[0;36m<lambda>\u001b[1;34m(row)\u001b[0m\n\u001b[0;32m      <a href='vscode-notebook-cell:/c%3A/Users/Paul/Repos/hoogle-fork/src/Rank/notebooks/evaluation/FastText.ipynb#ch0000003?line=0'>1</a>\u001b[0m eval_set \u001b[39m=\u001b[39m jl\u001b[39m.\u001b[39mread_jsonl(dp\u001b[39m.\u001b[39munified_hoogle_results)\n\u001b[0;32m      <a href='vscode-notebook-cell:/c%3A/Users/Paul/Repos/hoogle-fork/src/Rank/notebooks/evaluation/FastText.ipynb#ch0000003?line=1'>2</a>\u001b[0m eval_set \u001b[39m=\u001b[39m eval_set[eval_set[\u001b[39m'\u001b[39m\u001b[39mhoogleRes\u001b[39m\u001b[39m'\u001b[39m]\u001b[39m.\u001b[39mstr\u001b[39m.\u001b[39mlen() \u001b[39m>\u001b[39m \u001b[39m0\u001b[39m]\n\u001b[0;32m      <a href='vscode-notebook-cell:/c%3A/Users/Paul/Repos/hoogle-fork/src/Rank/notebooks/evaluation/FastText.ipynb#ch0000003?line=2'>3</a>\u001b[0m fasttext_result \u001b[39m=\u001b[39m eval_set\u001b[39m.\u001b[39mapply(\n\u001b[1;32m----> <a href='vscode-notebook-cell:/c%3A/Users/Paul/Repos/hoogle-fork/src/Rank/notebooks/evaluation/FastText.ipynb#ch0000003?line=3'>4</a>\u001b[0m     \u001b[39mlambda\u001b[39;00m row: model\u001b[39m.\u001b[39;49mrank(row[\u001b[39m'\u001b[39;49m\u001b[39mdocQuery\u001b[39;49m\u001b[39m'\u001b[39;49m]\u001b[39m.\u001b[39;49msplit(), row[\u001b[39m'\u001b[39;49m\u001b[39mhoogleRes\u001b[39;49m\u001b[39m'\u001b[39;49m]),\n\u001b[0;32m      <a href='vscode-notebook-cell:/c%3A/Users/Paul/Repos/hoogle-fork/src/Rank/notebooks/evaluation/FastText.ipynb#ch0000003?line=4'>5</a>\u001b[0m     axis\u001b[39m=\u001b[39m\u001b[39m1\u001b[39m,\n\u001b[0;32m      <a href='vscode-notebook-cell:/c%3A/Users/Paul/Repos/hoogle-fork/src/Rank/notebooks/evaluation/FastText.ipynb#ch0000003?line=5'>6</a>\u001b[0m )\n\u001b[0;32m      <a href='vscode-notebook-cell:/c%3A/Users/Paul/Repos/hoogle-fork/src/Rank/notebooks/evaluation/FastText.ipynb#ch0000003?line=6'>7</a>\u001b[0m eval_set[\u001b[39m'\u001b[39m\u001b[39mfasttextres\u001b[39m\u001b[39m'\u001b[39m] \u001b[39m=\u001b[39m fasttext_result  \n\u001b[0;32m      <a href='vscode-notebook-cell:/c%3A/Users/Paul/Repos/hoogle-fork/src/Rank/notebooks/evaluation/FastText.ipynb#ch0000003?line=7'>8</a>\u001b[0m eval_set[\u001b[39m'\u001b[39m\u001b[39mfasttextRank\u001b[39m\u001b[39m'\u001b[39m] \u001b[39m=\u001b[39m eval_set\u001b[39m.\u001b[39mapply(\u001b[39mlambda\u001b[39;00m row: ev\u001b[39m.\u001b[39mget_rank(row[\u001b[39m'\u001b[39m\u001b[39mstorageId\u001b[39m\u001b[39m'\u001b[39m], row[\u001b[39m'\u001b[39m\u001b[39mfasttextres\u001b[39m\u001b[39m'\u001b[39m]), axis\u001b[39m=\u001b[39m\u001b[39m1\u001b[39m)\n",
      "File \u001b[1;32mc:\\users\\paul\\repos\\hoogle-fork\\src\\rank\\ranking\\models\\model.py:12\u001b[0m, in \u001b[0;36mModel.rank\u001b[1;34m(self, query, storage_ids, top_n)\u001b[0m\n\u001b[0;32m     <a href='file:///c%3A/users/paul/repos/hoogle-fork/src/rank/ranking/models/model.py?line=10'>11</a>\u001b[0m \u001b[39mdef\u001b[39;00m \u001b[39mrank\u001b[39m(\u001b[39mself\u001b[39m, query, storage_ids, top_n\u001b[39m=\u001b[39m\u001b[39m10\u001b[39m):\n\u001b[1;32m---> <a href='file:///c%3A/users/paul/repos/hoogle-fork/src/rank/ranking/models/model.py?line=11'>12</a>\u001b[0m     scores \u001b[39m=\u001b[39m \u001b[39mself\u001b[39;49m\u001b[39m.\u001b[39;49mscore(query, storage_ids)\n\u001b[0;32m     <a href='file:///c%3A/users/paul/repos/hoogle-fork/src/rank/ranking/models/model.py?line=12'>13</a>\u001b[0m     ranking \u001b[39m=\u001b[39m \u001b[39msorted\u001b[39m(scores, key\u001b[39m=\u001b[39m\u001b[39mlambda\u001b[39;00m score: score[\u001b[39m1\u001b[39m], reverse\u001b[39m=\u001b[39m\u001b[39mTrue\u001b[39;00m)[:top_n]\n\u001b[0;32m     <a href='file:///c%3A/users/paul/repos/hoogle-fork/src/rank/ranking/models/model.py?line=13'>14</a>\u001b[0m     \u001b[39mreturn\u001b[39;00m [\u001b[39mid\u001b[39m \u001b[39mfor\u001b[39;00m \u001b[39mid\u001b[39m, _ \u001b[39min\u001b[39;00m ranking]\n",
      "File \u001b[1;32mc:\\users\\paul\\repos\\hoogle-fork\\src\\rank\\ranking\\models\\fasttext.py:18\u001b[0m, in \u001b[0;36mFastTextModel.score\u001b[1;34m(self, query, storage_ids)\u001b[0m\n\u001b[0;32m     <a href='file:///c%3A/users/paul/repos/hoogle-fork/src/rank/ranking/models/fasttext.py?line=15'>16</a>\u001b[0m \u001b[39mdef\u001b[39;00m \u001b[39mscore\u001b[39m(\u001b[39mself\u001b[39m, query, storage_ids):\n\u001b[0;32m     <a href='file:///c%3A/users/paul/repos/hoogle-fork/src/rank/ranking/models/fasttext.py?line=16'>17</a>\u001b[0m     documents \u001b[39m=\u001b[39m \u001b[39mself\u001b[39m\u001b[39m.\u001b[39m_store\u001b[39m.\u001b[39mget_doc_contents_by_storage_ids(storage_ids)\n\u001b[1;32m---> <a href='file:///c%3A/users/paul/repos/hoogle-fork/src/rank/ranking/models/fasttext.py?line=17'>18</a>\u001b[0m     scores \u001b[39m=\u001b[39m [(storage_id, \u001b[39mself\u001b[39m\u001b[39m.\u001b[39msim(query, document\u001b[39m.\u001b[39msplit()))\n\u001b[0;32m     <a href='file:///c%3A/users/paul/repos/hoogle-fork/src/rank/ranking/models/fasttext.py?line=18'>19</a>\u001b[0m               \u001b[39mfor\u001b[39;00m storage_id, document \u001b[39min\u001b[39;00m documents]\n\u001b[0;32m     <a href='file:///c%3A/users/paul/repos/hoogle-fork/src/rank/ranking/models/fasttext.py?line=19'>20</a>\u001b[0m     \u001b[39mreturn\u001b[39;00m scores\n",
      "File \u001b[1;32mc:\\users\\paul\\repos\\hoogle-fork\\src\\rank\\ranking\\models\\fasttext.py:18\u001b[0m, in \u001b[0;36m<listcomp>\u001b[1;34m(.0)\u001b[0m\n\u001b[0;32m     <a href='file:///c%3A/users/paul/repos/hoogle-fork/src/rank/ranking/models/fasttext.py?line=15'>16</a>\u001b[0m \u001b[39mdef\u001b[39;00m \u001b[39mscore\u001b[39m(\u001b[39mself\u001b[39m, query, storage_ids):\n\u001b[0;32m     <a href='file:///c%3A/users/paul/repos/hoogle-fork/src/rank/ranking/models/fasttext.py?line=16'>17</a>\u001b[0m     documents \u001b[39m=\u001b[39m \u001b[39mself\u001b[39m\u001b[39m.\u001b[39m_store\u001b[39m.\u001b[39mget_doc_contents_by_storage_ids(storage_ids)\n\u001b[1;32m---> <a href='file:///c%3A/users/paul/repos/hoogle-fork/src/rank/ranking/models/fasttext.py?line=17'>18</a>\u001b[0m     scores \u001b[39m=\u001b[39m [(storage_id, \u001b[39mself\u001b[39;49m\u001b[39m.\u001b[39;49msim(query, document\u001b[39m.\u001b[39;49msplit()))\n\u001b[0;32m     <a href='file:///c%3A/users/paul/repos/hoogle-fork/src/rank/ranking/models/fasttext.py?line=18'>19</a>\u001b[0m               \u001b[39mfor\u001b[39;00m storage_id, document \u001b[39min\u001b[39;00m documents]\n\u001b[0;32m     <a href='file:///c%3A/users/paul/repos/hoogle-fork/src/rank/ranking/models/fasttext.py?line=19'>20</a>\u001b[0m     \u001b[39mreturn\u001b[39;00m scores\n",
      "File \u001b[1;32mc:\\users\\paul\\repos\\hoogle-fork\\src\\rank\\ranking\\models\\fasttext.py:32\u001b[0m, in \u001b[0;36mFastTextModel.sim\u001b[1;34m(self, first_words, second_words)\u001b[0m\n\u001b[0;32m     <a href='file:///c%3A/users/paul/repos/hoogle-fork/src/rank/ranking/models/fasttext.py?line=29'>30</a>\u001b[0m \u001b[39mdef\u001b[39;00m \u001b[39msim\u001b[39m(\u001b[39mself\u001b[39m, first_words, second_words):\n\u001b[0;32m     <a href='file:///c%3A/users/paul/repos/hoogle-fork/src/rank/ranking/models/fasttext.py?line=30'>31</a>\u001b[0m     first_words_embeddings \u001b[39m=\u001b[39m \u001b[39mself\u001b[39m\u001b[39m.\u001b[39mget_embeddings(first_words)\n\u001b[1;32m---> <a href='file:///c%3A/users/paul/repos/hoogle-fork/src/rank/ranking/models/fasttext.py?line=31'>32</a>\u001b[0m     second_words_embeddings \u001b[39m=\u001b[39m \u001b[39mself\u001b[39;49m\u001b[39m.\u001b[39;49mget_embeddings(second_words)\n\u001b[0;32m     <a href='file:///c%3A/users/paul/repos/hoogle-fork/src/rank/ranking/models/fasttext.py?line=32'>33</a>\u001b[0m     [[similarity]] \u001b[39m=\u001b[39m cosine_similarity(first_words_embeddings\u001b[39m.\u001b[39mreshape(\n\u001b[0;32m     <a href='file:///c%3A/users/paul/repos/hoogle-fork/src/rank/ranking/models/fasttext.py?line=33'>34</a>\u001b[0m         \u001b[39m1\u001b[39m, \u001b[39m-\u001b[39m\u001b[39m1\u001b[39m), second_words_embeddings\u001b[39m.\u001b[39mreshape(\u001b[39m1\u001b[39m, \u001b[39m-\u001b[39m\u001b[39m1\u001b[39m))\n\u001b[0;32m     <a href='file:///c%3A/users/paul/repos/hoogle-fork/src/rank/ranking/models/fasttext.py?line=34'>35</a>\u001b[0m     \u001b[39mreturn\u001b[39;00m similarity\n",
      "File \u001b[1;32mc:\\users\\paul\\repos\\hoogle-fork\\src\\rank\\ranking\\models\\fasttext.py:25\u001b[0m, in \u001b[0;36mFastTextModel.get_embeddings\u001b[1;34m(self, words)\u001b[0m\n\u001b[0;32m     <a href='file:///c%3A/users/paul/repos/hoogle-fork/src/rank/ranking/models/fasttext.py?line=22'>23</a>\u001b[0m \u001b[39mif\u001b[39;00m \u001b[39mlen\u001b[39m(words) \u001b[39m==\u001b[39m \u001b[39m0\u001b[39m:\n\u001b[0;32m     <a href='file:///c%3A/users/paul/repos/hoogle-fork/src/rank/ranking/models/fasttext.py?line=23'>24</a>\u001b[0m     \u001b[39mreturn\u001b[39;00m np\u001b[39m.\u001b[39mzeros(\u001b[39mself\u001b[39m\u001b[39m.\u001b[39m_model\u001b[39m.\u001b[39mvector_size)\n\u001b[1;32m---> <a href='file:///c%3A/users/paul/repos/hoogle-fork/src/rank/ranking/models/fasttext.py?line=24'>25</a>\u001b[0m word_embeddings \u001b[39m=\u001b[39m np\u001b[39m.\u001b[39;49marray(\n\u001b[0;32m     <a href='file:///c%3A/users/paul/repos/hoogle-fork/src/rank/ranking/models/fasttext.py?line=25'>26</a>\u001b[0m     [\u001b[39mself\u001b[39;49m\u001b[39m.\u001b[39;49m_model\u001b[39m.\u001b[39;49mwv\u001b[39m.\u001b[39;49mget_vector(word) \u001b[39mfor\u001b[39;49;00m word \u001b[39min\u001b[39;49;00m words])\n\u001b[0;32m     <a href='file:///c%3A/users/paul/repos/hoogle-fork/src/rank/ranking/models/fasttext.py?line=26'>27</a>\u001b[0m result \u001b[39m=\u001b[39m np\u001b[39m.\u001b[39mmean(word_embeddings, axis\u001b[39m=\u001b[39m\u001b[39m0\u001b[39m)\n\u001b[0;32m     <a href='file:///c%3A/users/paul/repos/hoogle-fork/src/rank/ranking/models/fasttext.py?line=27'>28</a>\u001b[0m \u001b[39mreturn\u001b[39;00m result\n",
      "\u001b[1;31mKeyboardInterrupt\u001b[0m: "
     ]
    }
   ],
   "source": [
    "eval_set = jl.read_jsonl(dp.unified_hoogle_results)\n",
    "eval_set = eval_set[eval_set['hoogleRes'].str.len() > 0]\n",
    "fasttext_result = eval_set.apply(\n",
    "    lambda row: model.rank(row['docQuery'].split(), row['hoogleRes']),\n",
    "    axis=1,\n",
    ")\n",
    "eval_set['fasttextres'] = fasttext_result  \n",
    "eval_set['fasttextRank'] = eval_set.apply(lambda row: ev.get_rank(row['storageId'], row['fasttextres']), axis=1)"
   ]
  },
  {
   "cell_type": "code",
   "execution_count": 88,
   "metadata": {},
   "outputs": [
    {
     "name": "stdout",
     "output_type": "stream",
     "text": [
      "Hoogle + BM25:\n"
     ]
    },
    {
     "data": {
      "text/html": [
       "<div>\n",
       "<style scoped>\n",
       "    .dataframe tbody tr th:only-of-type {\n",
       "        vertical-align: middle;\n",
       "    }\n",
       "\n",
       "    .dataframe tbody tr th {\n",
       "        vertical-align: top;\n",
       "    }\n",
       "\n",
       "    .dataframe thead th {\n",
       "        text-align: right;\n",
       "    }\n",
       "</style>\n",
       "<table border=\"1\" class=\"dataframe\">\n",
       "  <thead>\n",
       "    <tr style=\"text-align: right;\">\n",
       "      <th></th>\n",
       "      <th>Total</th>\n",
       "      <th>TopOne Total:</th>\n",
       "      <th>TopOne in %</th>\n",
       "      <th>TopTen Total:</th>\n",
       "      <th>TopTen in %</th>\n",
       "      <th>MRR</th>\n",
       "    </tr>\n",
       "  </thead>\n",
       "  <tbody>\n",
       "    <tr>\n",
       "      <th>0</th>\n",
       "      <td>1000</td>\n",
       "      <td>660</td>\n",
       "      <td>0.66</td>\n",
       "      <td>958</td>\n",
       "      <td>0.958</td>\n",
       "      <td>0.777627</td>\n",
       "    </tr>\n",
       "  </tbody>\n",
       "</table>\n",
       "</div>"
      ],
      "text/plain": [
       "   Total  TopOne Total:  TopOne in %  TopTen Total:  TopTen in %       MRR\n",
       "0   1000            660         0.66            958        0.958  0.777627"
      ]
     },
     "execution_count": 88,
     "metadata": {},
     "output_type": "execute_result"
    }
   ],
   "source": [
    "print('Hoogle + FastText:')\n",
    "ev.evaluate(eval_set['fasttextRank'])"
   ]
  }
 ],
 "metadata": {
  "interpreter": {
   "hash": "b39dcb3d3362ff747ddce896d3961166e3de0f67646b9052166a268c283e04ff"
  },
  "kernelspec": {
   "display_name": "Python 3.8.3 ('base')",
   "language": "python",
   "name": "python3"
  },
  "language_info": {
   "codemirror_mode": {
    "name": "ipython",
    "version": 3
   },
   "file_extension": ".py",
   "mimetype": "text/x-python",
   "name": "python",
   "nbconvert_exporter": "python",
   "pygments_lexer": "ipython3",
   "version": "3.8.3"
  },
  "orig_nbformat": 4
 },
 "nbformat": 4,
 "nbformat_minor": 2
}
