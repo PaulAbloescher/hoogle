{
 "cells": [
  {
   "cell_type": "code",
   "execution_count": 1,
   "metadata": {},
   "outputs": [],
   "source": [
    "# Always reload modules to have the current version\n",
    "%reload_ext autoreload\n",
    "%autoreload 2\n"
   ]
  },
  {
   "cell_type": "code",
   "execution_count": 2,
   "metadata": {},
   "outputs": [],
   "source": [
    "from ranking.models.fasttext import FastTextModel\n",
    "from ranking.storage.document_store import DocumentStore\n",
    "from ranking.util import dataset_paths as dp\n",
    "from ranking.util import json_lines as jl\n",
    "from ranking.util.corpus import CorpusReader\n",
    "import os\n",
    "import ranking.evaluation.evaluate as ev\n",
    "\n",
    "corpus_name = 'my-new-corpus.txt'\n",
    "model_name = 'sg-fastText_model.pkl'\n",
    "eval_set = jl.read_jsonl(dp.unified_hoogle_results)\n",
    "eval_set = eval_set[eval_set['hoogleRes'].str.len() > 0]\n",
    "\n",
    "if os.path.exists(model_name):\n",
    "    model = FastTextModel.load(model_name)\n",
    "else:\n",
    "    store = DocumentStore(dp.lemmatized_unique_functions_corpus)\n",
    "    corpus = CorpusReader(corpus_name)\n",
    "    model = FastTextModel(store, corpus)\n",
    "    model.save(model_name)\n"
   ]
  },
  {
   "cell_type": "code",
   "execution_count": 3,
   "metadata": {},
   "outputs": [
    {
     "name": "stdout",
     "output_type": "stream",
     "text": [
      "Hoogle + FastText:\n"
     ]
    },
    {
     "ename": "AttributeError",
     "evalue": "'DataFrame' object has no attribute 'to_list'",
     "output_type": "error",
     "traceback": [
      "\u001b[1;31m---------------------------------------------------------------------------\u001b[0m",
      "\u001b[1;31mAttributeError\u001b[0m                            Traceback (most recent call last)",
      "\u001b[1;32mc:\\Users\\Paul\\Repos\\hoogle-fork\\src\\Rank\\notebooks\\evaluation\\FastText.ipynb Cell 3'\u001b[0m in \u001b[0;36m<module>\u001b[1;34m\u001b[0m\n\u001b[0;32m      <a href='vscode-notebook-cell:/c%3A/Users/Paul/Repos/hoogle-fork/src/Rank/notebooks/evaluation/FastText.ipynb#ch0000002?line=0'>1</a>\u001b[0m \u001b[39mprint\u001b[39m(\u001b[39m'\u001b[39m\u001b[39mHoogle + FastText:\u001b[39m\u001b[39m'\u001b[39m)\n\u001b[1;32m----> <a href='vscode-notebook-cell:/c%3A/Users/Paul/Repos/hoogle-fork/src/Rank/notebooks/evaluation/FastText.ipynb#ch0000002?line=1'>2</a>\u001b[0m ev\u001b[39m.\u001b[39;49mevaluate_model(model, eval_set)\n",
      "File \u001b[1;32mc:\\users\\paul\\repos\\hoogle-fork\\src\\rank\\ranking\\evaluation\\evaluate.py:6\u001b[0m, in \u001b[0;36mevaluate_model\u001b[1;34m(model, evaluation_set)\u001b[0m\n\u001b[0;32m      <a href='file:///c%3A/users/paul/repos/hoogle-fork/src/rank/ranking/evaluation/evaluate.py?line=4'>5</a>\u001b[0m \u001b[39mdef\u001b[39;00m \u001b[39mevaluate_model\u001b[39m(model: Model, evaluation_set: pd\u001b[39m.\u001b[39mDataFrame):\n\u001b[1;32m----> <a href='file:///c%3A/users/paul/repos/hoogle-fork/src/rank/ranking/evaluation/evaluate.py?line=5'>6</a>\u001b[0m     evaluation_set[\u001b[39m'\u001b[39m\u001b[39mresult\u001b[39m\u001b[39m'\u001b[39m] \u001b[39m=\u001b[39m evaluation_set\u001b[39m.\u001b[39;49mapply(\n\u001b[0;32m      <a href='file:///c%3A/users/paul/repos/hoogle-fork/src/rank/ranking/evaluation/evaluate.py?line=6'>7</a>\u001b[0m         \u001b[39mlambda\u001b[39;49;00m row: model\u001b[39m.\u001b[39;49mrank(normalize(row[\u001b[39m'\u001b[39;49m\u001b[39mdocQuery\u001b[39;49m\u001b[39m'\u001b[39;49m])\u001b[39m.\u001b[39;49msplit(), row[\u001b[39m'\u001b[39;49m\u001b[39mhoogleRes\u001b[39;49m\u001b[39m'\u001b[39;49m]),\n\u001b[0;32m      <a href='file:///c%3A/users/paul/repos/hoogle-fork/src/rank/ranking/evaluation/evaluate.py?line=7'>8</a>\u001b[0m         axis\u001b[39m=\u001b[39;49m\u001b[39m1\u001b[39;49m\n\u001b[0;32m      <a href='file:///c%3A/users/paul/repos/hoogle-fork/src/rank/ranking/evaluation/evaluate.py?line=8'>9</a>\u001b[0m     )\n\u001b[0;32m     <a href='file:///c%3A/users/paul/repos/hoogle-fork/src/rank/ranking/evaluation/evaluate.py?line=9'>10</a>\u001b[0m     evaluation_set[\u001b[39m'\u001b[39m\u001b[39mrankings\u001b[39m\u001b[39m'\u001b[39m] \u001b[39m=\u001b[39m evaluation_set\u001b[39m.\u001b[39mapply(\u001b[39mlambda\u001b[39;00m row: get_rank(row[\u001b[39m'\u001b[39m\u001b[39mstorageId\u001b[39m\u001b[39m'\u001b[39m], row[\u001b[39m'\u001b[39m\u001b[39mresult\u001b[39m\u001b[39m'\u001b[39m]), axis\u001b[39m=\u001b[39m\u001b[39m1\u001b[39m)\n\u001b[0;32m     <a href='file:///c%3A/users/paul/repos/hoogle-fork/src/rank/ranking/evaluation/evaluate.py?line=10'>11</a>\u001b[0m     \u001b[39mreturn\u001b[39;00m evaluate(evaluation_set[\u001b[39m'\u001b[39m\u001b[39mrankings\u001b[39m\u001b[39m'\u001b[39m])\n",
      "File \u001b[1;32m~\\anaconda3\\lib\\site-packages\\pandas\\core\\frame.py:8833\u001b[0m, in \u001b[0;36mDataFrame.apply\u001b[1;34m(self, func, axis, raw, result_type, args, **kwargs)\u001b[0m\n\u001b[0;32m   <a href='file:///c%3A/Users/Paul/anaconda3/lib/site-packages/pandas/core/frame.py?line=8821'>8822</a>\u001b[0m \u001b[39mfrom\u001b[39;00m \u001b[39mpandas\u001b[39;00m\u001b[39m.\u001b[39;00m\u001b[39mcore\u001b[39;00m\u001b[39m.\u001b[39;00m\u001b[39mapply\u001b[39;00m \u001b[39mimport\u001b[39;00m frame_apply\n\u001b[0;32m   <a href='file:///c%3A/Users/Paul/anaconda3/lib/site-packages/pandas/core/frame.py?line=8823'>8824</a>\u001b[0m op \u001b[39m=\u001b[39m frame_apply(\n\u001b[0;32m   <a href='file:///c%3A/Users/Paul/anaconda3/lib/site-packages/pandas/core/frame.py?line=8824'>8825</a>\u001b[0m     \u001b[39mself\u001b[39m,\n\u001b[0;32m   <a href='file:///c%3A/Users/Paul/anaconda3/lib/site-packages/pandas/core/frame.py?line=8825'>8826</a>\u001b[0m     func\u001b[39m=\u001b[39mfunc,\n\u001b[1;32m   (...)\u001b[0m\n\u001b[0;32m   <a href='file:///c%3A/Users/Paul/anaconda3/lib/site-packages/pandas/core/frame.py?line=8830'>8831</a>\u001b[0m     kwargs\u001b[39m=\u001b[39mkwargs,\n\u001b[0;32m   <a href='file:///c%3A/Users/Paul/anaconda3/lib/site-packages/pandas/core/frame.py?line=8831'>8832</a>\u001b[0m )\n\u001b[1;32m-> <a href='file:///c%3A/Users/Paul/anaconda3/lib/site-packages/pandas/core/frame.py?line=8832'>8833</a>\u001b[0m \u001b[39mreturn\u001b[39;00m op\u001b[39m.\u001b[39;49mapply()\u001b[39m.\u001b[39m__finalize__(\u001b[39mself\u001b[39m, method\u001b[39m=\u001b[39m\u001b[39m\"\u001b[39m\u001b[39mapply\u001b[39m\u001b[39m\"\u001b[39m)\n",
      "File \u001b[1;32m~\\anaconda3\\lib\\site-packages\\pandas\\core\\apply.py:727\u001b[0m, in \u001b[0;36mFrameApply.apply\u001b[1;34m(self)\u001b[0m\n\u001b[0;32m    <a href='file:///c%3A/Users/Paul/anaconda3/lib/site-packages/pandas/core/apply.py?line=723'>724</a>\u001b[0m \u001b[39melif\u001b[39;00m \u001b[39mself\u001b[39m\u001b[39m.\u001b[39mraw:\n\u001b[0;32m    <a href='file:///c%3A/Users/Paul/anaconda3/lib/site-packages/pandas/core/apply.py?line=724'>725</a>\u001b[0m     \u001b[39mreturn\u001b[39;00m \u001b[39mself\u001b[39m\u001b[39m.\u001b[39mapply_raw()\n\u001b[1;32m--> <a href='file:///c%3A/Users/Paul/anaconda3/lib/site-packages/pandas/core/apply.py?line=726'>727</a>\u001b[0m \u001b[39mreturn\u001b[39;00m \u001b[39mself\u001b[39;49m\u001b[39m.\u001b[39;49mapply_standard()\n",
      "File \u001b[1;32m~\\anaconda3\\lib\\site-packages\\pandas\\core\\apply.py:851\u001b[0m, in \u001b[0;36mFrameApply.apply_standard\u001b[1;34m(self)\u001b[0m\n\u001b[0;32m    <a href='file:///c%3A/Users/Paul/anaconda3/lib/site-packages/pandas/core/apply.py?line=849'>850</a>\u001b[0m \u001b[39mdef\u001b[39;00m \u001b[39mapply_standard\u001b[39m(\u001b[39mself\u001b[39m):\n\u001b[1;32m--> <a href='file:///c%3A/Users/Paul/anaconda3/lib/site-packages/pandas/core/apply.py?line=850'>851</a>\u001b[0m     results, res_index \u001b[39m=\u001b[39m \u001b[39mself\u001b[39;49m\u001b[39m.\u001b[39;49mapply_series_generator()\n\u001b[0;32m    <a href='file:///c%3A/Users/Paul/anaconda3/lib/site-packages/pandas/core/apply.py?line=852'>853</a>\u001b[0m     \u001b[39m# wrap results\u001b[39;00m\n\u001b[0;32m    <a href='file:///c%3A/Users/Paul/anaconda3/lib/site-packages/pandas/core/apply.py?line=853'>854</a>\u001b[0m     \u001b[39mreturn\u001b[39;00m \u001b[39mself\u001b[39m\u001b[39m.\u001b[39mwrap_results(results, res_index)\n",
      "File \u001b[1;32m~\\anaconda3\\lib\\site-packages\\pandas\\core\\apply.py:867\u001b[0m, in \u001b[0;36mFrameApply.apply_series_generator\u001b[1;34m(self)\u001b[0m\n\u001b[0;32m    <a href='file:///c%3A/Users/Paul/anaconda3/lib/site-packages/pandas/core/apply.py?line=863'>864</a>\u001b[0m \u001b[39mwith\u001b[39;00m option_context(\u001b[39m\"\u001b[39m\u001b[39mmode.chained_assignment\u001b[39m\u001b[39m\"\u001b[39m, \u001b[39mNone\u001b[39;00m):\n\u001b[0;32m    <a href='file:///c%3A/Users/Paul/anaconda3/lib/site-packages/pandas/core/apply.py?line=864'>865</a>\u001b[0m     \u001b[39mfor\u001b[39;00m i, v \u001b[39min\u001b[39;00m \u001b[39menumerate\u001b[39m(series_gen):\n\u001b[0;32m    <a href='file:///c%3A/Users/Paul/anaconda3/lib/site-packages/pandas/core/apply.py?line=865'>866</a>\u001b[0m         \u001b[39m# ignore SettingWithCopy here in case the user mutates\u001b[39;00m\n\u001b[1;32m--> <a href='file:///c%3A/Users/Paul/anaconda3/lib/site-packages/pandas/core/apply.py?line=866'>867</a>\u001b[0m         results[i] \u001b[39m=\u001b[39m \u001b[39mself\u001b[39;49m\u001b[39m.\u001b[39;49mf(v)\n\u001b[0;32m    <a href='file:///c%3A/Users/Paul/anaconda3/lib/site-packages/pandas/core/apply.py?line=867'>868</a>\u001b[0m         \u001b[39mif\u001b[39;00m \u001b[39misinstance\u001b[39m(results[i], ABCSeries):\n\u001b[0;32m    <a href='file:///c%3A/Users/Paul/anaconda3/lib/site-packages/pandas/core/apply.py?line=868'>869</a>\u001b[0m             \u001b[39m# If we have a view on v, we need to make a copy because\u001b[39;00m\n\u001b[0;32m    <a href='file:///c%3A/Users/Paul/anaconda3/lib/site-packages/pandas/core/apply.py?line=869'>870</a>\u001b[0m             \u001b[39m#  series_generator will swap out the underlying data\u001b[39;00m\n\u001b[0;32m    <a href='file:///c%3A/Users/Paul/anaconda3/lib/site-packages/pandas/core/apply.py?line=870'>871</a>\u001b[0m             results[i] \u001b[39m=\u001b[39m results[i]\u001b[39m.\u001b[39mcopy(deep\u001b[39m=\u001b[39m\u001b[39mFalse\u001b[39;00m)\n",
      "File \u001b[1;32mc:\\users\\paul\\repos\\hoogle-fork\\src\\rank\\ranking\\evaluation\\evaluate.py:7\u001b[0m, in \u001b[0;36mevaluate_model.<locals>.<lambda>\u001b[1;34m(row)\u001b[0m\n\u001b[0;32m      <a href='file:///c%3A/users/paul/repos/hoogle-fork/src/rank/ranking/evaluation/evaluate.py?line=4'>5</a>\u001b[0m \u001b[39mdef\u001b[39;00m \u001b[39mevaluate_model\u001b[39m(model: Model, evaluation_set: pd\u001b[39m.\u001b[39mDataFrame):\n\u001b[0;32m      <a href='file:///c%3A/users/paul/repos/hoogle-fork/src/rank/ranking/evaluation/evaluate.py?line=5'>6</a>\u001b[0m     evaluation_set[\u001b[39m'\u001b[39m\u001b[39mresult\u001b[39m\u001b[39m'\u001b[39m] \u001b[39m=\u001b[39m evaluation_set\u001b[39m.\u001b[39mapply(\n\u001b[1;32m----> <a href='file:///c%3A/users/paul/repos/hoogle-fork/src/rank/ranking/evaluation/evaluate.py?line=6'>7</a>\u001b[0m         \u001b[39mlambda\u001b[39;00m row: model\u001b[39m.\u001b[39;49mrank(normalize(row[\u001b[39m'\u001b[39;49m\u001b[39mdocQuery\u001b[39;49m\u001b[39m'\u001b[39;49m])\u001b[39m.\u001b[39;49msplit(), row[\u001b[39m'\u001b[39;49m\u001b[39mhoogleRes\u001b[39;49m\u001b[39m'\u001b[39;49m]),\n\u001b[0;32m      <a href='file:///c%3A/users/paul/repos/hoogle-fork/src/rank/ranking/evaluation/evaluate.py?line=7'>8</a>\u001b[0m         axis\u001b[39m=\u001b[39m\u001b[39m1\u001b[39m\n\u001b[0;32m      <a href='file:///c%3A/users/paul/repos/hoogle-fork/src/rank/ranking/evaluation/evaluate.py?line=8'>9</a>\u001b[0m     )\n\u001b[0;32m     <a href='file:///c%3A/users/paul/repos/hoogle-fork/src/rank/ranking/evaluation/evaluate.py?line=9'>10</a>\u001b[0m     evaluation_set[\u001b[39m'\u001b[39m\u001b[39mrankings\u001b[39m\u001b[39m'\u001b[39m] \u001b[39m=\u001b[39m evaluation_set\u001b[39m.\u001b[39mapply(\u001b[39mlambda\u001b[39;00m row: get_rank(row[\u001b[39m'\u001b[39m\u001b[39mstorageId\u001b[39m\u001b[39m'\u001b[39m], row[\u001b[39m'\u001b[39m\u001b[39mresult\u001b[39m\u001b[39m'\u001b[39m]), axis\u001b[39m=\u001b[39m\u001b[39m1\u001b[39m)\n\u001b[0;32m     <a href='file:///c%3A/users/paul/repos/hoogle-fork/src/rank/ranking/evaluation/evaluate.py?line=10'>11</a>\u001b[0m     \u001b[39mreturn\u001b[39;00m evaluate(evaluation_set[\u001b[39m'\u001b[39m\u001b[39mrankings\u001b[39m\u001b[39m'\u001b[39m])\n",
      "File \u001b[1;32mc:\\users\\paul\\repos\\hoogle-fork\\src\\rank\\ranking\\models\\model.py:12\u001b[0m, in \u001b[0;36mModel.rank\u001b[1;34m(self, query, storage_ids, top_n)\u001b[0m\n\u001b[0;32m     <a href='file:///c%3A/users/paul/repos/hoogle-fork/src/rank/ranking/models/model.py?line=10'>11</a>\u001b[0m \u001b[39mdef\u001b[39;00m \u001b[39mrank\u001b[39m(\u001b[39mself\u001b[39m, query, storage_ids, top_n\u001b[39m=\u001b[39m\u001b[39m10\u001b[39m):\n\u001b[1;32m---> <a href='file:///c%3A/users/paul/repos/hoogle-fork/src/rank/ranking/models/model.py?line=11'>12</a>\u001b[0m     scores \u001b[39m=\u001b[39m \u001b[39mself\u001b[39;49m\u001b[39m.\u001b[39;49mscore(query, storage_ids)\n\u001b[0;32m     <a href='file:///c%3A/users/paul/repos/hoogle-fork/src/rank/ranking/models/model.py?line=12'>13</a>\u001b[0m     ranking \u001b[39m=\u001b[39m \u001b[39msorted\u001b[39m(scores, key\u001b[39m=\u001b[39m\u001b[39mlambda\u001b[39;00m score: score[\u001b[39m1\u001b[39m], reverse\u001b[39m=\u001b[39m\u001b[39mTrue\u001b[39;00m)[:top_n]\n\u001b[0;32m     <a href='file:///c%3A/users/paul/repos/hoogle-fork/src/rank/ranking/models/model.py?line=13'>14</a>\u001b[0m     \u001b[39mreturn\u001b[39;00m [\u001b[39mid\u001b[39m \u001b[39mfor\u001b[39;00m \u001b[39mid\u001b[39m, _ \u001b[39min\u001b[39;00m ranking]\n",
      "File \u001b[1;32mc:\\users\\paul\\repos\\hoogle-fork\\src\\rank\\ranking\\models\\fasttext.py:17\u001b[0m, in \u001b[0;36mFastTextModel.score\u001b[1;34m(self, query, storage_ids)\u001b[0m\n\u001b[0;32m     <a href='file:///c%3A/users/paul/repos/hoogle-fork/src/rank/ranking/models/fasttext.py?line=15'>16</a>\u001b[0m \u001b[39mdef\u001b[39;00m \u001b[39mscore\u001b[39m(\u001b[39mself\u001b[39m, query, storage_ids):\n\u001b[1;32m---> <a href='file:///c%3A/users/paul/repos/hoogle-fork/src/rank/ranking/models/fasttext.py?line=16'>17</a>\u001b[0m     documents \u001b[39m=\u001b[39m \u001b[39mself\u001b[39;49m\u001b[39m.\u001b[39;49m_store\u001b[39m.\u001b[39;49mget_doc_contents_by_storage_ids(storage_ids)\n\u001b[0;32m     <a href='file:///c%3A/users/paul/repos/hoogle-fork/src/rank/ranking/models/fasttext.py?line=17'>18</a>\u001b[0m     scores \u001b[39m=\u001b[39m [(storage_id, \u001b[39mself\u001b[39m\u001b[39m.\u001b[39msim(query, document\u001b[39m.\u001b[39msplit()))\n\u001b[0;32m     <a href='file:///c%3A/users/paul/repos/hoogle-fork/src/rank/ranking/models/fasttext.py?line=18'>19</a>\u001b[0m               \u001b[39mfor\u001b[39;00m storage_id, document \u001b[39min\u001b[39;00m documents]\n\u001b[0;32m     <a href='file:///c%3A/users/paul/repos/hoogle-fork/src/rank/ranking/models/fasttext.py?line=19'>20</a>\u001b[0m     \u001b[39mreturn\u001b[39;00m scores\n",
      "File \u001b[1;32mc:\\users\\paul\\repos\\hoogle-fork\\src\\rank\\ranking\\storage\\document_store.py:20\u001b[0m, in \u001b[0;36mDocumentStore.get_doc_contents_by_storage_ids\u001b[1;34m(self, storage_ids)\u001b[0m\n\u001b[0;32m     <a href='file:///c%3A/users/paul/repos/hoogle-fork/src/rank/ranking/storage/document_store.py?line=18'>19</a>\u001b[0m \u001b[39mdef\u001b[39;00m \u001b[39mget_doc_contents_by_storage_ids\u001b[39m(\u001b[39mself\u001b[39m, storage_ids):\n\u001b[1;32m---> <a href='file:///c%3A/users/paul/repos/hoogle-fork/src/rank/ranking/storage/document_store.py?line=19'>20</a>\u001b[0m     doc_contents \u001b[39m=\u001b[39m \u001b[39mself\u001b[39;49m\u001b[39m.\u001b[39;49m_grouped\u001b[39m.\u001b[39;49mloc[storage_ids]\u001b[39m.\u001b[39;49mapply(\n\u001b[0;32m     <a href='file:///c%3A/users/paul/repos/hoogle-fork/src/rank/ranking/storage/document_store.py?line=20'>21</a>\u001b[0m         \u001b[39mlambda\u001b[39;49;00m res: (res\u001b[39m.\u001b[39;49mname, res[\u001b[39m'\u001b[39;49m\u001b[39mdocContent\u001b[39;49m\u001b[39m'\u001b[39;49m]), axis\u001b[39m=\u001b[39;49m\u001b[39m1\u001b[39;49m)\u001b[39m.\u001b[39;49mto_list()\n\u001b[0;32m     <a href='file:///c%3A/users/paul/repos/hoogle-fork/src/rank/ranking/storage/document_store.py?line=21'>22</a>\u001b[0m     \u001b[39mreturn\u001b[39;00m doc_contents\n",
      "File \u001b[1;32m~\\anaconda3\\lib\\site-packages\\pandas\\core\\generic.py:5583\u001b[0m, in \u001b[0;36mNDFrame.__getattr__\u001b[1;34m(self, name)\u001b[0m\n\u001b[0;32m   <a href='file:///c%3A/Users/Paul/anaconda3/lib/site-packages/pandas/core/generic.py?line=5575'>5576</a>\u001b[0m \u001b[39mif\u001b[39;00m (\n\u001b[0;32m   <a href='file:///c%3A/Users/Paul/anaconda3/lib/site-packages/pandas/core/generic.py?line=5576'>5577</a>\u001b[0m     name \u001b[39mnot\u001b[39;00m \u001b[39min\u001b[39;00m \u001b[39mself\u001b[39m\u001b[39m.\u001b[39m_internal_names_set\n\u001b[0;32m   <a href='file:///c%3A/Users/Paul/anaconda3/lib/site-packages/pandas/core/generic.py?line=5577'>5578</a>\u001b[0m     \u001b[39mand\u001b[39;00m name \u001b[39mnot\u001b[39;00m \u001b[39min\u001b[39;00m \u001b[39mself\u001b[39m\u001b[39m.\u001b[39m_metadata\n\u001b[0;32m   <a href='file:///c%3A/Users/Paul/anaconda3/lib/site-packages/pandas/core/generic.py?line=5578'>5579</a>\u001b[0m     \u001b[39mand\u001b[39;00m name \u001b[39mnot\u001b[39;00m \u001b[39min\u001b[39;00m \u001b[39mself\u001b[39m\u001b[39m.\u001b[39m_accessors\n\u001b[0;32m   <a href='file:///c%3A/Users/Paul/anaconda3/lib/site-packages/pandas/core/generic.py?line=5579'>5580</a>\u001b[0m     \u001b[39mand\u001b[39;00m \u001b[39mself\u001b[39m\u001b[39m.\u001b[39m_info_axis\u001b[39m.\u001b[39m_can_hold_identifiers_and_holds_name(name)\n\u001b[0;32m   <a href='file:///c%3A/Users/Paul/anaconda3/lib/site-packages/pandas/core/generic.py?line=5580'>5581</a>\u001b[0m ):\n\u001b[0;32m   <a href='file:///c%3A/Users/Paul/anaconda3/lib/site-packages/pandas/core/generic.py?line=5581'>5582</a>\u001b[0m     \u001b[39mreturn\u001b[39;00m \u001b[39mself\u001b[39m[name]\n\u001b[1;32m-> <a href='file:///c%3A/Users/Paul/anaconda3/lib/site-packages/pandas/core/generic.py?line=5582'>5583</a>\u001b[0m \u001b[39mreturn\u001b[39;00m \u001b[39mobject\u001b[39;49m\u001b[39m.\u001b[39;49m\u001b[39m__getattribute__\u001b[39;49m(\u001b[39mself\u001b[39;49m, name)\n",
      "\u001b[1;31mAttributeError\u001b[0m: 'DataFrame' object has no attribute 'to_list'"
     ]
    }
   ],
   "source": [
    "print('Hoogle + FastText:')\n",
    "ev.evaluate_model(model, eval_set)\n"
   ]
  }
 ],
 "metadata": {
  "interpreter": {
   "hash": "b39dcb3d3362ff747ddce896d3961166e3de0f67646b9052166a268c283e04ff"
  },
  "kernelspec": {
   "display_name": "Python 3.8.3 ('base')",
   "language": "python",
   "name": "python3"
  },
  "language_info": {
   "codemirror_mode": {
    "name": "ipython",
    "version": 3
   },
   "file_extension": ".py",
   "mimetype": "text/x-python",
   "name": "python",
   "nbconvert_exporter": "python",
   "pygments_lexer": "ipython3",
   "version": "3.8.3"
  },
  "orig_nbformat": 4
 },
 "nbformat": 4,
 "nbformat_minor": 2
}
