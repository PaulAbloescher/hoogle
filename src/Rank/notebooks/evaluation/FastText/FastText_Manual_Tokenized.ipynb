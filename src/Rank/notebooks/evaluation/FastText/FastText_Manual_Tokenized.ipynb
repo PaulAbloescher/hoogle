{
 "cells": [
  {
   "cell_type": "code",
   "execution_count": 2,
   "metadata": {},
   "outputs": [],
   "source": [
    "# Always reload modules to have the current version\n",
    "%reload_ext autoreload\n",
    "%autoreload 2\n"
   ]
  },
  {
   "cell_type": "code",
   "execution_count": 3,
   "metadata": {},
   "outputs": [],
   "source": [
    "from ranking.models.fasttext import FastTextModel\n",
    "from ranking.storage.document_store import DocumentStore\n",
    "from ranking.util import dataset_paths as dp\n",
    "from ranking.util import json_lines as jl\n",
    "from ranking.util.corpus import CorpusReader\n",
    "from ranking.normalization.normalizer import normalize\n",
    "import os\n",
    "import ranking.evaluation.evaluate as ev\n",
    "\n",
    "corpus_name = dp.tokenized_unique_sentences_corpus\n",
    "model_name = 'tokenized-sg-fastText_model.pkl'\n",
    "eval_set = jl.read_jsonl(dp.manual_evaluation_set)\n",
    "eval_set['docQuery'] = eval_set['docQuery'].apply(lambda query: normalize(query, lambda text: text))\n",
    "\n",
    "if os.path.exists(model_name):\n",
    "    model = FastTextModel.load(model_name)\n",
    "else:\n",
    "    store = DocumentStore(dp.tokenized_unique_functions_corpus)\n",
    "    corpus = CorpusReader(corpus_name)\n",
    "    model = FastTextModel(store, corpus)\n",
    "    model.save(model_name)\n"
   ]
  },
  {
   "cell_type": "code",
   "execution_count": 4,
   "metadata": {},
   "outputs": [
    {
     "name": "stdout",
     "output_type": "stream",
     "text": [
      "Hoogle + FastText:\n"
     ]
    },
    {
     "name": "stderr",
     "output_type": "stream",
     "text": [
      "Evaluation progress: 100%|██████████| 25/25 [00:00<00:00, 174.82it/s]\n"
     ]
    },
    {
     "data": {
      "text/html": [
       "<div>\n",
       "<style scoped>\n",
       "    .dataframe tbody tr th:only-of-type {\n",
       "        vertical-align: middle;\n",
       "    }\n",
       "\n",
       "    .dataframe tbody tr th {\n",
       "        vertical-align: top;\n",
       "    }\n",
       "\n",
       "    .dataframe thead th {\n",
       "        text-align: right;\n",
       "    }\n",
       "</style>\n",
       "<table border=\"1\" class=\"dataframe\">\n",
       "  <thead>\n",
       "    <tr style=\"text-align: right;\">\n",
       "      <th></th>\n",
       "      <th>Total</th>\n",
       "      <th>TopOne Total:</th>\n",
       "      <th>TopOne in %</th>\n",
       "      <th>TopTen Total:</th>\n",
       "      <th>TopTen in %</th>\n",
       "      <th>MRR</th>\n",
       "    </tr>\n",
       "  </thead>\n",
       "  <tbody>\n",
       "    <tr>\n",
       "      <th>0</th>\n",
       "      <td>25</td>\n",
       "      <td>5</td>\n",
       "      <td>0.2</td>\n",
       "      <td>23</td>\n",
       "      <td>0.92</td>\n",
       "      <td>0.434206</td>\n",
       "    </tr>\n",
       "  </tbody>\n",
       "</table>\n",
       "</div>"
      ],
      "text/plain": [
       "   Total  TopOne Total:  TopOne in %  TopTen Total:  TopTen in %       MRR\n",
       "0     25              5          0.2             23         0.92  0.434206"
      ]
     },
     "execution_count": 4,
     "metadata": {},
     "output_type": "execute_result"
    }
   ],
   "source": [
    "print('Hoogle + FastText:')\n",
    "ev.evaluate_model(model, eval_set)"
   ]
  }
 ],
 "metadata": {
  "interpreter": {
   "hash": "b39dcb3d3362ff747ddce896d3961166e3de0f67646b9052166a268c283e04ff"
  },
  "kernelspec": {
   "display_name": "Python 3.8.3 ('base')",
   "language": "python",
   "name": "python3"
  },
  "language_info": {
   "codemirror_mode": {
    "name": "ipython",
    "version": 3
   },
   "file_extension": ".py",
   "mimetype": "text/x-python",
   "name": "python",
   "nbconvert_exporter": "python",
   "pygments_lexer": "ipython3",
   "version": "3.8.3"
  },
  "orig_nbformat": 4
 },
 "nbformat": 4,
 "nbformat_minor": 2
}
