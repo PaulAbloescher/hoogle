{
 "cells": [
  {
   "cell_type": "code",
   "execution_count": 4,
   "metadata": {},
   "outputs": [],
   "source": [
    "# Always reload modules to have the current version\n",
    "%reload_ext autoreload\n",
    "%autoreload 2"
   ]
  },
  {
   "cell_type": "code",
   "execution_count": 5,
   "metadata": {},
   "outputs": [],
   "source": [
    "from ranking.util import dataset_paths as dp\n",
    "from ranking.util import json_lines as jl\n",
    "import ranking.evaluation.evaluate as ev\n",
    "\n",
    "tfidf_eval_set = jl.read_jsonl(dp.tokenized_tfidf_evaluation_set)\n",
    "tfidf_eval_set['hoogleRank'] = tfidf_eval_set.apply(lambda row: ev.get_rank(row['storageId'], row['hoogleRes']), axis=1)\n",
    "\n",
    "manual_eval_set = jl.read_jsonl(dp.manual_evaluation_set)\n",
    "manual_eval_set['hoogleRank'] = manual_eval_set.apply(lambda row: ev.get_rank(row['storageId'], row['hoogleRes']), axis=1)"
   ]
  },
  {
   "cell_type": "code",
   "execution_count": 6,
   "metadata": {},
   "outputs": [
    {
     "name": "stdout",
     "output_type": "stream",
     "text": [
      "Plain Hoogle TF-IDF Evaluation-Set:\n",
      "    Total  TopOne Total:  TopOne in %  TopTen Total:  TopTen in %       MRR\n",
      "0  172492         115194     0.667822         160930     0.932971  0.764985\n"
     ]
    }
   ],
   "source": [
    "print('Plain Hoogle TF-IDF Evaluation-Set:')\n",
    "print(ev.evaluate(tfidf_eval_set['hoogleRank']))"
   ]
  },
  {
   "cell_type": "code",
   "execution_count": 7,
   "metadata": {},
   "outputs": [
    {
     "name": "stdout",
     "output_type": "stream",
     "text": [
      "Plain Hoogle Manual Evaluation-Set:\n",
      "   Total  TopOne Total:  TopOne in %  TopTen Total:  TopTen in %       MRR\n",
      "0     25             11         0.44             25          1.0  0.653333\n"
     ]
    }
   ],
   "source": [
    "print('Plain Hoogle Manual Evaluation-Set:')\n",
    "print(ev.evaluate(manual_eval_set['hoogleRank']))\n"
   ]
  }
 ],
 "metadata": {
  "interpreter": {
   "hash": "b39dcb3d3362ff747ddce896d3961166e3de0f67646b9052166a268c283e04ff"
  },
  "kernelspec": {
   "display_name": "Python 3.8.3 ('base')",
   "language": "python",
   "name": "python3"
  },
  "language_info": {
   "codemirror_mode": {
    "name": "ipython",
    "version": 3
   },
   "file_extension": ".py",
   "mimetype": "text/x-python",
   "name": "python",
   "nbconvert_exporter": "python",
   "pygments_lexer": "ipython3",
   "version": "3.8.3"
  },
  "orig_nbformat": 4
 },
 "nbformat": 4,
 "nbformat_minor": 2
}
