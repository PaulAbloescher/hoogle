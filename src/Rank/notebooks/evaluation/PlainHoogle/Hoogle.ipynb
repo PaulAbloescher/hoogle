{
 "cells": [
  {
   "cell_type": "code",
   "execution_count": 5,
   "metadata": {},
   "outputs": [],
   "source": [
    "# Always reload modules to have the current version\n",
    "%reload_ext autoreload\n",
    "%autoreload 2"
   ]
  },
  {
   "cell_type": "code",
   "execution_count": 6,
   "metadata": {},
   "outputs": [],
   "source": [
    "from ranking.util import dataset_paths as dp\n",
    "from ranking.util import json_lines as jl\n",
    "import ranking.evaluation.evaluate as ev\n",
    "\n",
    "tok_tfidf_eval_set = jl.read_jsonl(dp.tokenized_tfidf_evaluation_set)\n",
    "tok_tfidf_eval_set['hoogleRank'] = tok_tfidf_eval_set.apply(lambda row: ev.get_rank(row['storageId'], row['hoogleRes']), axis=1)\n",
    "\n",
    "lem_tfidf_eval_set = jl.read_jsonl(dp.lemmatized_tfidf_evaluation_set)\n",
    "lem_tfidf_eval_set['hoogleRank'] = lem_tfidf_eval_set.apply(lambda row: ev.get_rank(row['storageId'], row['hoogleRes']), axis=1)\n",
    "\n",
    "manual_eval_set = jl.read_jsonl(dp.manual_evaluation_set)\n",
    "manual_eval_set['hoogleRank'] = manual_eval_set.apply(lambda row: ev.get_rank(row['storageId'], row['hoogleRes']), axis=1)"
   ]
  },
  {
   "cell_type": "code",
   "execution_count": 7,
   "metadata": {},
   "outputs": [
    {
     "name": "stdout",
     "output_type": "stream",
     "text": [
      "Plain Hoogle Tokenized TF-IDF Evaluation-Set:\n",
      "    Total  TopOne Total:  TopOne in %  TopTen Total:  TopTen in %       MRR\n",
      "0  172998         113463     0.655863         160351     0.926895  0.754927\n"
     ]
    }
   ],
   "source": [
    "print('Plain Hoogle Tokenized TF-IDF Evaluation-Set:')\n",
    "print(ev.evaluate(tok_tfidf_eval_set['hoogleRank']))"
   ]
  },
  {
   "cell_type": "code",
   "execution_count": 8,
   "metadata": {},
   "outputs": [
    {
     "name": "stdout",
     "output_type": "stream",
     "text": [
      "Plain Hoogle Lemmatized TF-IDF Evaluation-Set:\n",
      "    Total  TopOne Total:  TopOne in %  TopTen Total:  TopTen in %       MRR\n",
      "0  172957         113450     0.655943         160316     0.926912  0.754993\n"
     ]
    }
   ],
   "source": [
    "print('Plain Hoogle Lemmatized TF-IDF Evaluation-Set:')\n",
    "print(ev.evaluate(lem_tfidf_eval_set['hoogleRank']))\n"
   ]
  },
  {
   "cell_type": "code",
   "execution_count": 9,
   "metadata": {},
   "outputs": [
    {
     "name": "stdout",
     "output_type": "stream",
     "text": [
      "Plain Hoogle Manual Evaluation-Set:\n",
      "   Total  TopOne Total:  TopOne in %  TopTen Total:  TopTen in %       MRR\n",
      "0     25             11         0.44             25          1.0  0.668333\n"
     ]
    }
   ],
   "source": [
    "print('Plain Hoogle Manual Evaluation-Set:')\n",
    "print(ev.evaluate(manual_eval_set['hoogleRank']))\n"
   ]
  }
 ],
 "metadata": {
  "interpreter": {
   "hash": "b39dcb3d3362ff747ddce896d3961166e3de0f67646b9052166a268c283e04ff"
  },
  "kernelspec": {
   "display_name": "Python 3.8.3 ('base')",
   "language": "python",
   "name": "python3"
  },
  "language_info": {
   "codemirror_mode": {
    "name": "ipython",
    "version": 3
   },
   "file_extension": ".py",
   "mimetype": "text/x-python",
   "name": "python",
   "nbconvert_exporter": "python",
   "pygments_lexer": "ipython3",
   "version": "3.8.3"
  },
  "orig_nbformat": 4
 },
 "nbformat": 4,
 "nbformat_minor": 2
}
