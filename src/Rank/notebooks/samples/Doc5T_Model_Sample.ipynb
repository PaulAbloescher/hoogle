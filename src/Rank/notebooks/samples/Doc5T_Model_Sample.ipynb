{
 "cells": [
  {
   "cell_type": "code",
   "execution_count": 15,
   "metadata": {},
   "outputs": [],
   "source": [
    "# Always reload modules to have the current version\n",
    "%reload_ext autoreload\n",
    "%autoreload 2\n"
   ]
  },
  {
   "cell_type": "code",
   "execution_count": 16,
   "metadata": {},
   "outputs": [],
   "source": [
    "from transformers import T5Tokenizer, T5ForConditionalGeneration\n",
    "\n",
    "model_name = 'doc2query/stackexchange-t5-base-v1'\n",
    "tokenizer = T5Tokenizer.from_pretrained(model_name)\n",
    "model = T5ForConditionalGeneration.from_pretrained(model_name)\n"
   ]
  },
  {
   "cell_type": "code",
   "execution_count": 24,
   "metadata": {},
   "outputs": [
    {
     "name": "stdout",
     "output_type": "stream",
     "text": [
      "Text:\n",
      "apply a function to each element in a list\n",
      "\n",
      "Generated Queries:\n",
      "1: Specify input size when the user does not have permission in a list\n",
      "2: How to get the value of a column from a list in C#?\n",
      "3: How can I execute a function on every element in a list in Notepad++?\n",
      "4: How to check if a cell is empty in a list\n",
      "5: How to append a function to a list item in XML\n"
     ]
    }
   ],
   "source": [
    "text = \"apply a function to each element in a list\"\n",
    "\n",
    "input_ids = tokenizer.encode(text, max_length=320, truncation=True, return_tensors='pt')\n",
    "outputs = model.generate(\n",
    "    input_ids=input_ids,\n",
    "    max_length=64,\n",
    "    do_sample=True,\n",
    "    top_p=0.95,\n",
    "    num_return_sequences=5)\n",
    "\n",
    "print(\"Text:\")\n",
    "print(text)\n",
    "\n",
    "print(\"\\nGenerated Queries:\")\n",
    "for i in range(len(outputs)):\n",
    "    query = tokenizer.decode(outputs[i], skip_special_tokens=True)\n",
    "    print(f'{i + 1}: {query}')\n"
   ]
  }
 ],
 "metadata": {
  "interpreter": {
   "hash": "b39dcb3d3362ff747ddce896d3961166e3de0f67646b9052166a268c283e04ff"
  },
  "kernelspec": {
   "display_name": "Python 3.8.3 ('base')",
   "language": "python",
   "name": "python3"
  },
  "language_info": {
   "codemirror_mode": {
    "name": "ipython",
    "version": 3
   },
   "file_extension": ".py",
   "mimetype": "text/x-python",
   "name": "python",
   "nbconvert_exporter": "python",
   "pygments_lexer": "ipython3",
   "version": "3.8.3"
  },
  "orig_nbformat": 4
 },
 "nbformat": 4,
 "nbformat_minor": 2
}
