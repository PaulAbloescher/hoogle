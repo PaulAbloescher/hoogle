{
 "cells": [
  {
   "cell_type": "code",
   "execution_count": null,
   "metadata": {},
   "outputs": [],
   "source": [
    "from ranking.normalization import normalizer as n\n",
    "words = 'apply applying applied'.split()\n",
    "\n",
    "print('lemmas for apply:', n.lemmatize(words))\n",
    "print('stems for apply:', n.stem(words))\n",
    "\n",
    "print(n.get_wn_stopwords())\n"
   ]
  }
 ],
 "metadata": {
  "language_info": {
   "name": "python"
  },
  "orig_nbformat": 4
 },
 "nbformat": 4,
 "nbformat_minor": 2
}
