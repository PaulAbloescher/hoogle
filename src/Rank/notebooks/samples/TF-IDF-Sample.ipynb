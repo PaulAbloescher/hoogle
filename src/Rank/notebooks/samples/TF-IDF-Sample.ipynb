{
 "cells": [
  {
   "cell_type": "code",
   "execution_count": 1,
   "metadata": {},
   "outputs": [
    {
     "data": {
      "text/plain": [
       "[0.0, 1.0, 0.21427727886978595]"
      ]
     },
     "execution_count": 1,
     "metadata": {},
     "output_type": "execute_result"
    }
   ],
   "source": [
    "import numpy as np\n",
    "\n",
    "doc1 = np.array([0.00, 0.35, 0.00, 0.18, 0.00])\n",
    "doc2 = np.array([0.18, 0.00, 0.48, 0.00, 0.18])\n",
    "doc3 = np.array([0.18, 0.35, 0.00, 0.35, 0.18])\n",
    "query  = np.array([0.18, 0.00, 0.48, 0.00, 0.18])\n",
    "docs = [doc1, doc2, doc3]\n",
    "unit_vecs = [doc_vec / np.linalg.norm(doc_vec) for doc_vec in docs]\n",
    "scores = [np.dot(query / np.linalg.norm(query), unit_vec) for unit_vec in unit_vecs]\n",
    "scores\n"
   ]
  }
 ],
 "metadata": {
  "interpreter": {
   "hash": "66a74710f051586426ab976e23d5ff4f9c170f849e5f5a0fe4458d432aa964cd"
  },
  "kernelspec": {
   "display_name": "Python 3.8.3 ('sbert')",
   "language": "python",
   "name": "python3"
  },
  "language_info": {
   "codemirror_mode": {
    "name": "ipython",
    "version": 3
   },
   "file_extension": ".py",
   "mimetype": "text/x-python",
   "name": "python",
   "nbconvert_exporter": "python",
   "pygments_lexer": "ipython3",
   "version": "3.8.3"
  },
  "orig_nbformat": 4
 },
 "nbformat": 4,
 "nbformat_minor": 2
}
